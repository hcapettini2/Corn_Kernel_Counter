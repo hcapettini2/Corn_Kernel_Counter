{
 "cells": [
  {
   "cell_type": "markdown",
   "id": "5938b2d8",
   "metadata": {},
   "source": [
    "# Approach based on density maps generation"
   ]
  },
  {
   "cell_type": "code",
   "execution_count": 1,
   "id": "076d6f95",
   "metadata": {},
   "outputs": [
    {
     "name": "stderr",
     "output_type": "stream",
     "text": [
      "C:\\Users\\hilar\\anaconda3\\envs\\NNDL_torch\\lib\\site-packages\\tqdm\\auto.py:22: TqdmWarning: IProgress not found. Please update jupyter and ipywidgets. See https://ipywidgets.readthedocs.io/en/stable/user_install.html\n",
      "  from .autonotebook import tqdm as notebook_tqdm\n"
     ]
    }
   ],
   "source": [
    "import torch\n",
    "from torch.utils.data import Dataset\n",
    "import torch.utils.data as data\n",
    "#from torchvision import datasets\n",
    "#from torchvision.transforms import ToTensor\n",
    "import matplotlib.pyplot as plt\n",
    "from torch.utils.data import DataLoader\n",
    "from torchvision import transforms\n",
    "# Torchvision library\n",
    "import torchvision\n",
    "import torch.nn as nn\n",
    "from tqdm import tqdm # plot progress bars\n",
    "import numpy as np\n",
    "\n",
    "import os\n",
    "import pandas as pd\n",
    "#from torchvision.io import read_image\n",
    "from PIL import Image\n",
    "import seaborn as sns\n",
    "import copy\n",
    "import cv2\n",
    "import random\n",
    "import time\n",
    "\n",
    "from torch.utils.tensorboard import SummaryWriter\n",
    "import segmentation_models_pytorch as smp"
   ]
  },
  {
   "cell_type": "code",
   "execution_count": 2,
   "id": "87511b7a",
   "metadata": {},
   "outputs": [],
   "source": [
    "# Set seeds for reproducibility (PyTorch, Python, Numpy)\n",
    "matricola = 2013031\n",
    "torch.manual_seed(matricola)\n",
    "random.seed(matricola)\n",
    "np.random.seed(matricola)\n"
   ]
  },
  {
   "cell_type": "markdown",
   "id": "dc6bcd25",
   "metadata": {},
   "source": [
    "## Data adquisition  definition of the Dataset class and Dataloader"
   ]
  },
  {
   "cell_type": "code",
   "execution_count": 3,
   "id": "18f97b5a",
   "metadata": {},
   "outputs": [],
   "source": [
    "class CustomImageDataset(Dataset):\n",
    "    \"\"\"As builsing back the images to the original size is usefull for counting the number of kernels\n",
    "       I need to pass this information \"\"\"\n",
    "    def __init__(self, annotations_file, img_dir,scale, img_transform=None, target_transform=None,geo_transform=None):\n",
    "        self.img_labels = pd.read_csv(annotations_file)\n",
    "        self.img_dir    = img_dir\n",
    "        ### Transforms\n",
    "        self.geo_transform    = geo_transform\n",
    "        self.img_transform    = img_transform\n",
    "        self.target_transform = target_transform\n",
    "        self.scale = scale\n",
    "\n",
    "    def __len__(self):\n",
    "        return len(self.img_labels)\n",
    "\n",
    "    def __getitem__(self, idx):\n",
    "        img_path = os.path.join(self.img_dir, self.img_labels.iloc[idx, 0])\n",
    "        image = Image.open(img_path) # I load it as a PIL image so I can perform some transforms that are not available for tensors.\n",
    "        label_path = os.path.join(self.img_dir, self.img_labels.iloc[idx, 2])\n",
    "        label    = cv2.imread(label_path,flags=cv2.IMREAD_ANYDEPTH)\n",
    "        label *= self.scale\n",
    "        shape = label.shape\n",
    "        count = self.img_labels.iloc[idx, 1]\n",
    "        \n",
    "\n",
    "        if self.img_transform:\n",
    "            image = self.img_transform(image)\n",
    "        if self.target_transform:\n",
    "            label = self.target_transform(label)\n",
    "        if self.geo_transform:\n",
    "            image = self.geo_transform(image)\n",
    "            label = self.geo_transform(label)                    \n",
    "        return image, label, shape, count\n",
    "    "
   ]
  },
  {
   "cell_type": "code",
   "execution_count": 4,
   "id": "8cc94780",
   "metadata": {},
   "outputs": [],
   "source": [
    "### Define transforms\n",
    "geometric_transforms = transforms.Compose([transforms.RandomRotation(15),\n",
    "                                           transforms.RandomHorizontalFlip(p=0.5),\n",
    "                                           transforms.RandomVerticalFlip(p=0.5),\n",
    "                                          ])\n",
    "\n",
    "\n",
    "train_transforms = transforms.Compose([\n",
    "                                        torchvision.transforms.ColorJitter(),\n",
    "                                        torchvision.transforms.GaussianBlur(kernel_size=3, sigma=(0.1, 2.0)),\n",
    "                                        transforms.ToTensor(),\n",
    "                                        transforms.Resize((224,224)),\n",
    "                                        transforms.Normalize(mean=[0.485, 0.456, 0.406], std=[0.229, 0.224, 0.225]),\n",
    "                                        ])\n",
    "\n",
    "# The test dataset must remain as original as possible\n",
    "test_transforms = transforms.Compose([transforms.ToTensor(),\n",
    "                                     transforms.Resize((224,224)),\n",
    "                                     ])\n",
    "\n",
    "target_transform = transforms.Compose([transforms.ToTensor(),\n",
    "                                      transforms.Resize((224,224)),]) "
   ]
  },
  {
   "cell_type": "code",
   "execution_count": 5,
   "id": "3aecbbc5",
   "metadata": {},
   "outputs": [],
   "source": [
    "path = \"C:/Users/hilar/Documents/Data/GitHub/Vision_Cognitive_Systems_Proyect/Corn/corn_kenel_counting_dataset/corn_kenel_counting_dataset/\"\n",
    "\n",
    "dataset = \"corn\"\n",
    "\n",
    "train_csv_path  = path + f\"{dataset}_coco/{dataset}_kernel_train_labels.csv\" \n",
    "train_data_path = path + f\"{dataset}_coco/train_set\" \n",
    "\n",
    "test_csv_path  = path + f\"{dataset}_coco/{dataset}_kernel_test_labels.csv\" \n",
    "test_data_path = path + f\"{dataset}_coco/test_set\"\n"
   ]
  },
  {
   "cell_type": "code",
   "execution_count": 6,
   "id": "fa6cbc0e",
   "metadata": {},
   "outputs": [],
   "source": [
    "### Define dataset\n",
    "scale = 1e4\n",
    "train_dataset = CustomImageDataset(train_csv_path, train_data_path,\n",
    "                                   scale = scale,\n",
    "                                   img_transform=train_transforms,\n",
    "                                   target_transform = target_transform,\n",
    "                                   geo_transform = geometric_transforms)\n",
    "\n",
    "test_dataset = CustomImageDataset(test_csv_path, test_data_path,\n",
    "                                  scale = scale,\n",
    "                                  img_transform = test_transforms,\n",
    "                                  target_transform = target_transform)"
   ]
  },
  {
   "cell_type": "code",
   "execution_count": 7,
   "id": "8cd9efdf",
   "metadata": {},
   "outputs": [
    {
     "name": "stdout",
     "output_type": "stream",
     "text": [
      "Number of training examples: 193\n"
     ]
    }
   ],
   "source": [
    "# Split train data into train and validation sets\n",
    "# (10% of training set will be used as validation set)\n",
    "num_train_examples = int(len(train_dataset) * 0.80)\n",
    "num_valid_examples = len(train_dataset) - num_train_examples\n",
    "\n",
    "print(f\"Number of training examples: {num_train_examples}\")"
   ]
  },
  {
   "cell_type": "code",
   "execution_count": 8,
   "id": "c63b4c51",
   "metadata": {},
   "outputs": [
    {
     "name": "stdout",
     "output_type": "stream",
     "text": [
      "Number training examples: 193\n",
      "Number validation examples: 49\n",
      "Number test examples: 62\n"
     ]
    }
   ],
   "source": [
    "# Create 'Subset' objects\n",
    "train_dataset, validation_dataset = data.random_split(train_dataset, [num_train_examples, num_valid_examples])\n",
    "\n",
    "print(f\"Number training examples: {len(train_dataset)}\")\n",
    "print(f\"Number validation examples: {len(validation_dataset)}\")\n",
    "print(f\"Number test examples: {len(test_dataset)}\")"
   ]
  },
  {
   "cell_type": "code",
   "execution_count": 9,
   "id": "294a0d45",
   "metadata": {},
   "outputs": [],
   "source": [
    "# Apply test transformations to the validation set\n",
    "validation_dataset = copy.deepcopy(validation_dataset) # If we change train transformations, this won't affect the validation set\n",
    "validation_dataset.dataset.transform = test_transforms"
   ]
  },
  {
   "cell_type": "code",
   "execution_count": 10,
   "id": "ff6a9941",
   "metadata": {},
   "outputs": [],
   "source": [
    "# data Loaders\n",
    "train_dataloader = DataLoader(train_dataset, batch_size=50, shuffle=True, num_workers=0)\n",
    "validation_dataloader = DataLoader(validation_dataset, batch_size=len(validation_dataset), shuffle=False, num_workers=0)\n",
    "test_dataloader = DataLoader(test_dataset, batch_size=len(test_dataset), shuffle=False, num_workers=0)\n"
   ]
  },
  {
   "cell_type": "markdown",
   "id": "c302fd65",
   "metadata": {},
   "source": [
    "Lets check if dataloaders are working properly"
   ]
  },
  {
   "cell_type": "code",
   "execution_count": 11,
   "id": "1aab78ab",
   "metadata": {},
   "outputs": [
    {
     "name": "stdout",
     "output_type": "stream",
     "text": [
      "Dataloader Time: 3.82 s\n"
     ]
    }
   ],
   "source": [
    "start_time = time.time()\n",
    "train_features, train_labels, shape,count = next(iter(train_dataloader))\n",
    "end_time = time.time()\n",
    "print(f\"Dataloader Time: {end_time-start_time:.2f} s\")"
   ]
  },
  {
   "cell_type": "code",
   "execution_count": 12,
   "id": "656b5088",
   "metadata": {},
   "outputs": [
    {
     "name": "stdout",
     "output_type": "stream",
     "text": [
      "Feature batch shape: torch.Size([50, 3, 224, 224])\n",
      "Labels batch shape: torch.Size([50, 1, 224, 224])\n",
      "Feature batch shape: (2309, 1732, 3)\n",
      "Labels batch shape: (2309, 1732, 1)\n"
     ]
    }
   ],
   "source": [
    "print(f\"Feature batch shape: {train_features.size()}\")\n",
    "print(f\"Labels batch shape: {train_labels.size()}\")\n",
    "\n",
    "UP = nn.Upsample(size=(shape[0][0],shape[1][0]),mode='bilinear')\n",
    "img = train_features[0]#.numpy().transpose(1, 2, 0)\n",
    "img = img[None, :]\n",
    "img = UP(img)\n",
    "img = img[0].numpy().transpose(1, 2, 0)\n",
    "\n",
    "label = train_labels[0]#.numpy().transpose(1, 2, 0)\n",
    "label = label[None, :]\n",
    "label = UP(label)\n",
    "label = label[0].numpy().transpose(1, 2, 0)\n",
    "\n",
    "print(f\"Feature batch shape: {img.shape}\")\n",
    "print(f\"Labels batch shape: {label.shape}\")"
   ]
  },
  {
   "cell_type": "code",
   "execution_count": 13,
   "id": "629de26d",
   "metadata": {},
   "outputs": [
    {
     "data": {
      "image/png": "[encoded data removed]",
      "text/plain": [
       "<Figure size 432x288 with 2 Axes>"
      ]
     },
     "metadata": {},
     "output_type": "display_data"
    }
   ],
   "source": [
    "# Display image and label.\n",
    "fig, (ax1, ax2) = plt.subplots(1, 2)\n",
    "fig.suptitle(\"Image and its corresponding density map\",fontsize=15)\n",
    "ax1.imshow(img)\n",
    "ax1.set_title(f\"Real count = {count[0]}\",fontsize=12)\n",
    "ax1.set_xticks([])\n",
    "ax1.set_yticks([])\n",
    "ax2.imshow(label)\n",
    "ax2.set_title(f\"Map count= {int(label.sum()/1e4)}\", fontsize=12)\n",
    "ax2.set_xticks([])\n",
    "ax2.set_yticks([])\n",
    "plt.show()"
   ]
  },
  {
   "cell_type": "markdown",
   "id": "2f5b4246",
   "metadata": {},
   "source": [
    "# Network architecture"
   ]
  },
  {
   "cell_type": "code",
   "execution_count": 14,
   "id": "73064fd0",
   "metadata": {},
   "outputs": [],
   "source": [
    "class Map_CNN(nn.Module):\n",
    "    def __init__(self, Pre_Trained_Encoder):\n",
    "        super().__init__()\n",
    "        \n",
    "        self.encoder     = Pre_Trained_Encoder\n",
    "         ### Encoder\n",
    "        self.decoder = nn.Sequential(  \n",
    "                       nn.Conv2d(in_channels  = 512,      # C1\n",
    "                                  out_channels = 256,\n",
    "                                  kernel_size  = 3,\n",
    "                                  padding = 1,\n",
    "                                  stride = 1),\n",
    "                        nn.ReLU(True),                    \n",
    "                        nn.Conv2d(in_channels  = 256,     # C2    \n",
    "                                  out_channels = 128,\n",
    "                                  kernel_size  = 3,\n",
    "                                  padding = 1,\n",
    "                                  stride = 1),\n",
    "                        nn.ReLU(True), \n",
    "                        nn.Upsample(scale_factor=(2,2), mode='bilinear'),\n",
    "                        nn.Conv2d(in_channels  = 128,     #C3  \n",
    "                                  out_channels = 64,\n",
    "                                  kernel_size  = 3,\n",
    "                                  padding = 1,\n",
    "                                  stride = 1),\n",
    "                        nn.ReLU(True),\n",
    "                        nn.Upsample(scale_factor=(2,2), mode='bilinear'),\n",
    "                        nn.Conv2d(in_channels  = 64,      #C4  \n",
    "                                  out_channels = 1,\n",
    "                                  kernel_size  = 3,\n",
    "                                  padding = 1,\n",
    "                                  stride = 1),\n",
    "                        nn.ReLU(True),\n",
    "                        nn.Upsample(scale_factor=(2,2), mode='bilinear'),\n",
    "                        nn.Conv2d(in_channels  = 1,       #C5\n",
    "                                  out_channels = 1,\n",
    "                                  kernel_size  = 1,\n",
    "                                  padding = 0,\n",
    "                                  stride = 1)\n",
    "            )\n",
    "        \n",
    "    def forward(self, x,mode):\n",
    "        if (mode == \"Train\"):\n",
    "            self.encoder.train()\n",
    "            self.decoder.train()\n",
    "        elif (mode == \"Test\"):\n",
    "            self.encoder.eval()\n",
    "            self.decoder.eval()\n",
    "        y = self.encoder(x)\n",
    "        y = self.decoder(y)\n",
    "        return y\n",
    "    \n",
    "    \n",
    "    def train_epoch(self,device,dataloader, loss_fn, optimizer):\n",
    "        \"\"\"\n",
    "        This function train the network for one epoch\n",
    "        \"\"\"\n",
    "        # Train\n",
    "        loss_list = []\n",
    "        for x, y,_,_ in dataloader:\n",
    "            # Move data to device\n",
    "            x = x.to(device)\n",
    "            y = y.to(device)\n",
    "            # Forward\n",
    "            y_pred = self.forward(x,\"Train\")\n",
    "            # Compute loss\n",
    "            loss = loss_fn(y_pred, y)\n",
    "            # Backpropagate\n",
    "            optimizer.zero_grad()\n",
    "            loss.backward()\n",
    "            #Updata weights\n",
    "            optimizer.step()\n",
    "            # Save batch loss\n",
    "            loss_list.append(loss.detach().cpu().numpy())\n",
    "        return np.mean(loss_list)\n",
    "\n",
    "    def validate_epoch(self,device, dataloader, loss_fn):\n",
    "        \"\"\"\n",
    "        This function validate/test the network performance for one epoch of training\n",
    "        \"\"\"\n",
    "        loss_list = []\n",
    "        # Discable gradient tracking\n",
    "        with torch.no_grad():\n",
    "            for x, y,_,_ in dataloader:\n",
    "                x = x.to(device)\n",
    "                y = y.to(device)\n",
    "                y_pred = self.forward(x,\"Test\")\n",
    "                loss = loss_fn(y_pred, y)\n",
    "                loss_list.append(loss.detach().cpu().numpy()) \n",
    "        return np.mean(loss_list)\n",
    "       \n",
    "    def training_cycle(self, device, training_iterator, test_iterator, loss_fn, optim, num_epochs,\n",
    "                       verbose= True):\n",
    "        \"\"\"\n",
    "        This function train the network for a desired number of epochs it also test the network \n",
    "        reconstruction performance and make plots comparing the input image and the reconstructed one every 5 epochs.\n",
    "        \"\"\"\n",
    "        #initialize the tensorboard writer\n",
    "        #writer = SummaryWriter()\n",
    "        #I keep track of losses for plots\n",
    "        train_loss = []\n",
    "        val_loss  = []\n",
    "        for epoch in tqdm(range(num_epochs)):\n",
    "            start_time = time.time()\n",
    "            ### Training (use the training function)\n",
    "            tr_l = self.train_epoch(device=device, \n",
    "                                    dataloader=training_iterator, \n",
    "                                    loss_fn=loss_fn, \n",
    "                                    optimizer=optim)\n",
    "            train_loss.append(tr_l)\n",
    "            writer.add_scalar(\"Loss/train\", tr_l, epoch)\n",
    "            \n",
    "            ### Validation  (use the testing function)\n",
    "            v_l = self.validate_epoch(device=device, \n",
    "                                      dataloader=test_iterator, \n",
    "                                      loss_fn=loss_fn)\n",
    "            val_loss.append(v_l)\n",
    "            writer.add_scalar(\"Loss/validation\", v_l, epoch)\n",
    "            end_time = time.time()\n",
    "            writer.flush()\n",
    "            if verbose:\n",
    "                print(f\"\\nEpoch: {epoch+1}/{num_epochs} -- Epoch Time: {end_time-start_time:.2f} s\")\n",
    "                print(\"---------------------------------\")\n",
    "                print(f\"Train -- Loss: {tr_l:.3f}\")\n",
    "                print(f\"Val -- Loss: {v_l:.3f}\")\n",
    "        return train_loss, val_loss\n",
    "    "
   ]
  },
  {
   "cell_type": "markdown",
   "id": "b63e55bb",
   "metadata": {},
   "source": [
    "Prepare pre trained model for backbone and define our model"
   ]
  },
  {
   "cell_type": "code",
   "execution_count": 15,
   "id": "f3ed2aea",
   "metadata": {},
   "outputs": [],
   "source": [
    "### Load pretrained model\n",
    "VGG16 = smp.Unet('vgg16', encoder_weights='imagenet')\n",
    "### Load weights\n",
    "#VGG16.load_state_dict(torch.load('C:/Users/hilar/.cache/torch/hub/checkpoints/vgg16-397923af.pth'))\n",
    "### Define the encoder\n",
    "backbone = VGG16.encoder.features[0:20]\n",
    "### Define the model\n",
    "model = Map_CNN(backbone)"
   ]
  },
  {
   "cell_type": "code",
   "execution_count": 16,
   "id": "ea8249e5",
   "metadata": {},
   "outputs": [],
   "source": [
    "# ### Load pretrained model\n",
    "# VGG16 = torchvision.models.vgg16(pretrained = True)\n",
    "# ### Load weights\n",
    "# #VGG16.load_state_dict(torch.load('C:/Users/hilar/.cache/torch/hub/checkpoints/vgg16-397923af.pth'))\n",
    "# ### Define the encoder\n",
    "# enc = VGG16.features[0:20]\n",
    "# ### Define the model\n",
    "# model = Map_CNN(enc)"
   ]
  },
  {
   "cell_type": "code",
   "execution_count": 17,
   "id": "ec7a63bd",
   "metadata": {},
   "outputs": [
    {
     "name": "stdout",
     "output_type": "stream",
     "text": [
      "encoder.0.weight False\n",
      "encoder.0.bias False\n",
      "encoder.2.weight False\n",
      "encoder.2.bias False\n",
      "encoder.5.weight False\n",
      "encoder.5.bias False\n",
      "encoder.7.weight False\n",
      "encoder.7.bias False\n",
      "encoder.10.weight False\n",
      "encoder.10.bias False\n",
      "encoder.12.weight False\n",
      "encoder.12.bias False\n",
      "encoder.14.weight False\n",
      "encoder.14.bias False\n",
      "encoder.17.weight False\n",
      "encoder.17.bias False\n",
      "encoder.19.weight False\n",
      "encoder.19.bias False\n",
      "decoder.0.weight True\n",
      "decoder.0.bias True\n",
      "decoder.2.weight True\n",
      "decoder.2.bias True\n",
      "decoder.5.weight True\n",
      "decoder.5.bias True\n",
      "decoder.8.weight True\n",
      "decoder.8.bias True\n",
      "decoder.11.weight True\n",
      "decoder.11.bias True\n"
     ]
    }
   ],
   "source": [
    "### Disable the weight update for the trained encoder\n",
    "for param_name, param in model.encoder.named_parameters():\n",
    "    param.requires_grad = False\n",
    "\n",
    "### Allow weight update (training) of the last layers (linear layers)\n",
    "for param in model.decoder.parameters():\n",
    "    param.requires_grad = True\n",
    "\n",
    "### Check which weights and biases will be updated\n",
    "for param_name, param in model.named_parameters():\n",
    "    print(param_name,param.requires_grad)"
   ]
  },
  {
   "cell_type": "code",
   "execution_count": 18,
   "id": "0cf996c8",
   "metadata": {},
   "outputs": [],
   "source": [
    "max_epochs        = 250\n",
    "learning_rate     = 1e-3"
   ]
  },
  {
   "cell_type": "code",
   "execution_count": 19,
   "id": "e483ce61",
   "metadata": {},
   "outputs": [
    {
     "name": "stdout",
     "output_type": "stream",
     "text": [
      "Selected device: cpu\n"
     ]
    },
    {
     "data": {
      "text/plain": [
       "Map_CNN(\n",
       "  (encoder): Sequential(\n",
       "    (0): Conv2d(3, 64, kernel_size=(3, 3), stride=(1, 1), padding=(1, 1))\n",
       "    (1): ReLU(inplace=True)\n",
       "    (2): Conv2d(64, 64, kernel_size=(3, 3), stride=(1, 1), padding=(1, 1))\n",
       "    (3): ReLU(inplace=True)\n",
       "    (4): MaxPool2d(kernel_size=2, stride=2, padding=0, dilation=1, ceil_mode=False)\n",
       "    (5): Conv2d(64, 128, kernel_size=(3, 3), stride=(1, 1), padding=(1, 1))\n",
       "    (6): ReLU(inplace=True)\n",
       "    (7): Conv2d(128, 128, kernel_size=(3, 3), stride=(1, 1), padding=(1, 1))\n",
       "    (8): ReLU(inplace=True)\n",
       "    (9): MaxPool2d(kernel_size=2, stride=2, padding=0, dilation=1, ceil_mode=False)\n",
       "    (10): Conv2d(128, 256, kernel_size=(3, 3), stride=(1, 1), padding=(1, 1))\n",
       "    (11): ReLU(inplace=True)\n",
       "    (12): Conv2d(256, 256, kernel_size=(3, 3), stride=(1, 1), padding=(1, 1))\n",
       "    (13): ReLU(inplace=True)\n",
       "    (14): Conv2d(256, 256, kernel_size=(3, 3), stride=(1, 1), padding=(1, 1))\n",
       "    (15): ReLU(inplace=True)\n",
       "    (16): MaxPool2d(kernel_size=2, stride=2, padding=0, dilation=1, ceil_mode=False)\n",
       "    (17): Conv2d(256, 512, kernel_size=(3, 3), stride=(1, 1), padding=(1, 1))\n",
       "    (18): ReLU(inplace=True)\n",
       "    (19): Conv2d(512, 512, kernel_size=(3, 3), stride=(1, 1), padding=(1, 1))\n",
       "  )\n",
       "  (decoder): Sequential(\n",
       "    (0): Conv2d(512, 256, kernel_size=(3, 3), stride=(1, 1), padding=(1, 1))\n",
       "    (1): ReLU(inplace=True)\n",
       "    (2): Conv2d(256, 128, kernel_size=(3, 3), stride=(1, 1), padding=(1, 1))\n",
       "    (3): ReLU(inplace=True)\n",
       "    (4): Upsample(scale_factor=(2.0, 2.0), mode=bilinear)\n",
       "    (5): Conv2d(128, 64, kernel_size=(3, 3), stride=(1, 1), padding=(1, 1))\n",
       "    (6): ReLU(inplace=True)\n",
       "    (7): Upsample(scale_factor=(2.0, 2.0), mode=bilinear)\n",
       "    (8): Conv2d(64, 1, kernel_size=(3, 3), stride=(1, 1), padding=(1, 1))\n",
       "    (9): ReLU(inplace=True)\n",
       "    (10): Upsample(scale_factor=(2.0, 2.0), mode=bilinear)\n",
       "    (11): Conv2d(1, 1, kernel_size=(1, 1), stride=(1, 1))\n",
       "  )\n",
       ")"
      ]
     },
     "execution_count": 19,
     "metadata": {},
     "output_type": "execute_result"
    }
   ],
   "source": [
    "### Define the loss function for reconstruction\n",
    "loss_fn = nn.MSELoss()\n",
    "\n",
    "### Define an optimizer (both for the encoder and the decoder!)\n",
    "optimizer = torch.optim.Adam(model.parameters(), lr=learning_rate)\n",
    "\n",
    "# Check if the GPU is available\n",
    "device = torch.device(\"cuda\") if torch.cuda.is_available() else torch.device(\"cpu\")\n",
    "print(f'Selected device: {device}')\n",
    "\n",
    "#Send model to device\n",
    "model.to(device)"
   ]
  },
  {
   "cell_type": "code",
   "execution_count": 20,
   "id": "951231c5",
   "metadata": {
    "scrolled": true
   },
   "outputs": [
    {
     "name": "stderr",
     "output_type": "stream",
     "text": [
      "  0%|▎                                                                               | 1/250 [01:05<4:32:59, 65.78s/it]"
     ]
    },
    {
     "name": "stdout",
     "output_type": "stream",
     "text": [
      "\n",
      "Epoch: 1/250 -- Epoch Time: 65.78 s\n",
      "---------------------------------\n",
      "Train -- Loss: 601.632\n",
      "Val -- Loss: 394.547\n"
     ]
    },
    {
     "name": "stderr",
     "output_type": "stream",
     "text": [
      "\r",
      "  1%|▋                                                                               | 2/250 [02:13<4:35:58, 66.77s/it]"
     ]
    },
    {
     "name": "stdout",
     "output_type": "stream",
     "text": [
      "\n",
      "Epoch: 2/250 -- Epoch Time: 67.46 s\n",
      "---------------------------------\n",
      "Train -- Loss: 555.694\n",
      "Val -- Loss: 372.029\n"
     ]
    },
    {
     "name": "stderr",
     "output_type": "stream",
     "text": [
      "\r",
      "  1%|▉                                                                               | 3/250 [03:35<5:03:31, 73.73s/it]"
     ]
    },
    {
     "name": "stdout",
     "output_type": "stream",
     "text": [
      "\n",
      "Epoch: 3/250 -- Epoch Time: 82.01 s\n",
      "---------------------------------\n",
      "Train -- Loss: 567.084\n",
      "Val -- Loss: 366.069\n"
     ]
    },
    {
     "name": "stderr",
     "output_type": "stream",
     "text": [
      "\r",
      "  2%|█▎                                                                              | 4/250 [05:02<5:24:17, 79.10s/it]"
     ]
    },
    {
     "name": "stdout",
     "output_type": "stream",
     "text": [
      "\n",
      "Epoch: 4/250 -- Epoch Time: 87.32 s\n",
      "---------------------------------\n",
      "Train -- Loss: 530.952\n",
      "Val -- Loss: 356.027\n"
     ]
    },
    {
     "name": "stderr",
     "output_type": "stream",
     "text": [
      "\r",
      "  2%|█▌                                                                              | 5/250 [06:30<5:36:00, 82.29s/it]"
     ]
    },
    {
     "name": "stdout",
     "output_type": "stream",
     "text": [
      "\n",
      "Epoch: 5/250 -- Epoch Time: 87.94 s\n",
      "---------------------------------\n",
      "Train -- Loss: 523.740\n",
      "Val -- Loss: 341.277\n"
     ]
    },
    {
     "name": "stderr",
     "output_type": "stream",
     "text": [
      "\r",
      "  2%|█▉                                                                              | 6/250 [07:56<5:39:47, 83.56s/it]"
     ]
    },
    {
     "name": "stdout",
     "output_type": "stream",
     "text": [
      "\n",
      "Epoch: 6/250 -- Epoch Time: 86.02 s\n",
      "---------------------------------\n",
      "Train -- Loss: 500.528\n",
      "Val -- Loss: 317.989\n"
     ]
    },
    {
     "name": "stderr",
     "output_type": "stream",
     "text": [
      "\r",
      "  3%|██▏                                                                             | 7/250 [09:22<5:41:23, 84.29s/it]"
     ]
    },
    {
     "name": "stdout",
     "output_type": "stream",
     "text": [
      "\n",
      "Epoch: 7/250 -- Epoch Time: 85.81 s\n",
      "---------------------------------\n",
      "Train -- Loss: 456.242\n",
      "Val -- Loss: 270.403\n"
     ]
    },
    {
     "name": "stderr",
     "output_type": "stream",
     "text": [
      "\r",
      "  3%|██▌                                                                             | 8/250 [10:50<5:44:42, 85.46s/it]"
     ]
    },
    {
     "name": "stdout",
     "output_type": "stream",
     "text": [
      "\n",
      "Epoch: 8/250 -- Epoch Time: 87.96 s\n",
      "---------------------------------\n",
      "Train -- Loss: 358.714\n",
      "Val -- Loss: 220.590\n"
     ]
    },
    {
     "name": "stderr",
     "output_type": "stream",
     "text": [
      "\r",
      "  4%|██▉                                                                             | 9/250 [12:16<5:44:30, 85.77s/it]"
     ]
    },
    {
     "name": "stdout",
     "output_type": "stream",
     "text": [
      "\n",
      "Epoch: 9/250 -- Epoch Time: 86.44 s\n",
      "---------------------------------\n",
      "Train -- Loss: 310.983\n",
      "Val -- Loss: 201.345\n"
     ]
    },
    {
     "name": "stderr",
     "output_type": "stream",
     "text": [
      "\r",
      "  4%|███▏                                                                           | 10/250 [13:43<5:44:17, 86.07s/it]"
     ]
    },
    {
     "name": "stdout",
     "output_type": "stream",
     "text": [
      "\n",
      "Epoch: 10/250 -- Epoch Time: 86.75 s\n",
      "---------------------------------\n",
      "Train -- Loss: 293.364\n",
      "Val -- Loss: 179.299\n"
     ]
    },
    {
     "name": "stderr",
     "output_type": "stream",
     "text": [
      "\r",
      "  4%|███▍                                                                           | 11/250 [15:10<5:44:10, 86.41s/it]"
     ]
    },
    {
     "name": "stdout",
     "output_type": "stream",
     "text": [
      "\n",
      "Epoch: 11/250 -- Epoch Time: 87.16 s\n",
      "---------------------------------\n",
      "Train -- Loss: 295.459\n",
      "Val -- Loss: 240.690\n"
     ]
    },
    {
     "name": "stderr",
     "output_type": "stream",
     "text": [
      "\r",
      "  5%|███▊                                                                           | 12/250 [16:37<5:43:19, 86.55s/it]"
     ]
    },
    {
     "name": "stdout",
     "output_type": "stream",
     "text": [
      "\n",
      "Epoch: 12/250 -- Epoch Time: 86.89 s\n",
      "---------------------------------\n",
      "Train -- Loss: 255.917\n",
      "Val -- Loss: 153.057\n"
     ]
    },
    {
     "name": "stderr",
     "output_type": "stream",
     "text": [
      "\r",
      "  5%|████                                                                           | 13/250 [18:03<5:41:37, 86.49s/it]"
     ]
    },
    {
     "name": "stdout",
     "output_type": "stream",
     "text": [
      "\n",
      "Epoch: 13/250 -- Epoch Time: 86.34 s\n",
      "---------------------------------\n",
      "Train -- Loss: 227.577\n",
      "Val -- Loss: 145.964\n"
     ]
    },
    {
     "name": "stderr",
     "output_type": "stream",
     "text": [
      "\r",
      "  6%|████▍                                                                          | 14/250 [19:30<5:40:21, 86.53s/it]"
     ]
    },
    {
     "name": "stdout",
     "output_type": "stream",
     "text": [
      "\n",
      "Epoch: 14/250 -- Epoch Time: 86.63 s\n",
      "---------------------------------\n",
      "Train -- Loss: 204.017\n",
      "Val -- Loss: 130.095\n"
     ]
    },
    {
     "name": "stderr",
     "output_type": "stream",
     "text": [
      "\r",
      "  6%|████▋                                                                          | 15/250 [20:59<5:41:13, 87.12s/it]"
     ]
    },
    {
     "name": "stdout",
     "output_type": "stream",
     "text": [
      "\n",
      "Epoch: 15/250 -- Epoch Time: 88.48 s\n",
      "---------------------------------\n",
      "Train -- Loss: 238.029\n",
      "Val -- Loss: 141.233\n"
     ]
    },
    {
     "name": "stderr",
     "output_type": "stream",
     "text": [
      "\r",
      "  6%|█████                                                                          | 16/250 [22:25<5:39:22, 87.02s/it]"
     ]
    },
    {
     "name": "stdout",
     "output_type": "stream",
     "text": [
      "\n",
      "Epoch: 16/250 -- Epoch Time: 86.78 s\n",
      "---------------------------------\n",
      "Train -- Loss: 206.543\n",
      "Val -- Loss: 168.486\n"
     ]
    },
    {
     "name": "stderr",
     "output_type": "stream",
     "text": [
      "\r",
      "  7%|█████▎                                                                         | 17/250 [23:53<5:38:21, 87.13s/it]"
     ]
    },
    {
     "name": "stdout",
     "output_type": "stream",
     "text": [
      "\n",
      "Epoch: 17/250 -- Epoch Time: 87.39 s\n",
      "---------------------------------\n",
      "Train -- Loss: 194.419\n",
      "Val -- Loss: 148.546\n"
     ]
    },
    {
     "name": "stderr",
     "output_type": "stream",
     "text": [
      "\r",
      "  7%|█████▋                                                                         | 18/250 [25:22<5:39:38, 87.84s/it]"
     ]
    },
    {
     "name": "stdout",
     "output_type": "stream",
     "text": [
      "\n",
      "Epoch: 18/250 -- Epoch Time: 89.48 s\n",
      "---------------------------------\n",
      "Train -- Loss: 205.127\n",
      "Val -- Loss: 200.557\n"
     ]
    },
    {
     "name": "stderr",
     "output_type": "stream",
     "text": [
      "\r",
      "  8%|██████                                                                         | 19/250 [26:49<5:37:32, 87.67s/it]"
     ]
    },
    {
     "name": "stdout",
     "output_type": "stream",
     "text": [
      "\n",
      "Epoch: 19/250 -- Epoch Time: 87.28 s\n",
      "---------------------------------\n",
      "Train -- Loss: 200.583\n",
      "Val -- Loss: 150.301\n"
     ]
    },
    {
     "name": "stderr",
     "output_type": "stream",
     "text": [
      "\r",
      "  8%|██████▎                                                                        | 20/250 [28:16<5:35:19, 87.47s/it]"
     ]
    },
    {
     "name": "stdout",
     "output_type": "stream",
     "text": [
      "\n",
      "Epoch: 20/250 -- Epoch Time: 87.01 s\n",
      "---------------------------------\n",
      "Train -- Loss: 191.352\n",
      "Val -- Loss: 135.017\n"
     ]
    },
    {
     "name": "stderr",
     "output_type": "stream",
     "text": [
      "\r",
      "  8%|██████▋                                                                        | 21/250 [29:43<5:32:56, 87.23s/it]"
     ]
    },
    {
     "name": "stdout",
     "output_type": "stream",
     "text": [
      "\n",
      "Epoch: 21/250 -- Epoch Time: 86.67 s\n",
      "---------------------------------\n",
      "Train -- Loss: 214.388\n",
      "Val -- Loss: 134.067\n"
     ]
    },
    {
     "name": "stderr",
     "output_type": "stream",
     "text": [
      "\r",
      "  9%|██████▉                                                                        | 22/250 [31:12<5:32:54, 87.61s/it]"
     ]
    },
    {
     "name": "stdout",
     "output_type": "stream",
     "text": [
      "\n",
      "Epoch: 22/250 -- Epoch Time: 88.48 s\n",
      "---------------------------------\n",
      "Train -- Loss: 158.594\n",
      "Val -- Loss: 133.756\n"
     ]
    },
    {
     "name": "stderr",
     "output_type": "stream",
     "text": [
      "\r",
      "  9%|███████▎                                                                       | 23/250 [32:39<5:30:52, 87.45s/it]"
     ]
    },
    {
     "name": "stdout",
     "output_type": "stream",
     "text": [
      "\n",
      "Epoch: 23/250 -- Epoch Time: 87.10 s\n",
      "---------------------------------\n",
      "Train -- Loss: 175.545\n",
      "Val -- Loss: 151.030\n"
     ]
    },
    {
     "name": "stderr",
     "output_type": "stream",
     "text": [
      "\r",
      " 10%|███████▌                                                                       | 24/250 [34:05<5:27:44, 87.01s/it]"
     ]
    },
    {
     "name": "stdout",
     "output_type": "stream",
     "text": [
      "\n",
      "Epoch: 24/250 -- Epoch Time: 85.97 s\n",
      "---------------------------------\n",
      "Train -- Loss: 182.602\n",
      "Val -- Loss: 131.937\n"
     ]
    },
    {
     "name": "stderr",
     "output_type": "stream",
     "text": [
      "\r",
      " 10%|███████▉                                                                       | 25/250 [35:32<5:26:25, 87.05s/it]"
     ]
    },
    {
     "name": "stdout",
     "output_type": "stream",
     "text": [
      "\n",
      "Epoch: 25/250 -- Epoch Time: 87.13 s\n",
      "---------------------------------\n",
      "Train -- Loss: 186.339\n",
      "Val -- Loss: 156.764\n"
     ]
    },
    {
     "name": "stderr",
     "output_type": "stream",
     "text": [
      "\r",
      " 10%|████████▏                                                                      | 26/250 [36:59<5:24:57, 87.04s/it]"
     ]
    },
    {
     "name": "stdout",
     "output_type": "stream",
     "text": [
      "\n",
      "Epoch: 26/250 -- Epoch Time: 87.03 s\n",
      "---------------------------------\n",
      "Train -- Loss: 172.247\n",
      "Val -- Loss: 155.485\n"
     ]
    },
    {
     "name": "stderr",
     "output_type": "stream",
     "text": [
      "\r",
      " 11%|████████▌                                                                      | 27/250 [38:26<5:23:34, 87.06s/it]"
     ]
    },
    {
     "name": "stdout",
     "output_type": "stream",
     "text": [
      "\n",
      "Epoch: 27/250 -- Epoch Time: 87.10 s\n",
      "---------------------------------\n",
      "Train -- Loss: 184.803\n",
      "Val -- Loss: 124.922\n"
     ]
    },
    {
     "name": "stderr",
     "output_type": "stream",
     "text": [
      "\r",
      " 11%|████████▊                                                                      | 28/250 [39:54<5:23:34, 87.45s/it]"
     ]
    },
    {
     "name": "stdout",
     "output_type": "stream",
     "text": [
      "\n",
      "Epoch: 28/250 -- Epoch Time: 88.37 s\n",
      "---------------------------------\n",
      "Train -- Loss: 170.071\n",
      "Val -- Loss: 150.967\n"
     ]
    },
    {
     "name": "stderr",
     "output_type": "stream",
     "text": [
      "\r",
      " 12%|█████████▏                                                                     | 29/250 [41:22<5:22:14, 87.49s/it]"
     ]
    },
    {
     "name": "stdout",
     "output_type": "stream",
     "text": [
      "\n",
      "Epoch: 29/250 -- Epoch Time: 87.56 s\n",
      "---------------------------------\n",
      "Train -- Loss: 189.743\n",
      "Val -- Loss: 146.793\n"
     ]
    },
    {
     "name": "stderr",
     "output_type": "stream",
     "text": [
      "\r",
      " 12%|█████████▍                                                                     | 30/250 [42:49<5:19:53, 87.24s/it]"
     ]
    },
    {
     "name": "stdout",
     "output_type": "stream",
     "text": [
      "\n",
      "Epoch: 30/250 -- Epoch Time: 86.67 s\n",
      "---------------------------------\n",
      "Train -- Loss: 155.364\n",
      "Val -- Loss: 145.512\n"
     ]
    },
    {
     "name": "stderr",
     "output_type": "stream",
     "text": [
      "\r",
      " 12%|█████████▊                                                                     | 31/250 [44:15<5:17:12, 86.91s/it]"
     ]
    },
    {
     "name": "stdout",
     "output_type": "stream",
     "text": [
      "\n",
      "Epoch: 31/250 -- Epoch Time: 86.12 s\n",
      "---------------------------------\n",
      "Train -- Loss: 188.687\n",
      "Val -- Loss: 126.863\n"
     ]
    },
    {
     "name": "stderr",
     "output_type": "stream",
     "text": [
      "\r",
      " 13%|██████████                                                                     | 32/250 [45:42<5:15:39, 86.88s/it]"
     ]
    },
    {
     "name": "stdout",
     "output_type": "stream",
     "text": [
      "\n",
      "Epoch: 32/250 -- Epoch Time: 86.80 s\n",
      "---------------------------------\n",
      "Train -- Loss: 184.200\n",
      "Val -- Loss: 158.933\n"
     ]
    },
    {
     "name": "stderr",
     "output_type": "stream",
     "text": [
      "\r",
      " 13%|██████████▍                                                                    | 33/250 [47:08<5:13:53, 86.79s/it]"
     ]
    },
    {
     "name": "stdout",
     "output_type": "stream",
     "text": [
      "\n",
      "Epoch: 33/250 -- Epoch Time: 86.58 s\n",
      "---------------------------------\n",
      "Train -- Loss: 161.979\n",
      "Val -- Loss: 130.138\n"
     ]
    },
    {
     "name": "stderr",
     "output_type": "stream",
     "text": [
      "\r",
      " 14%|██████████▋                                                                    | 34/250 [48:35<5:12:22, 86.77s/it]"
     ]
    },
    {
     "name": "stdout",
     "output_type": "stream",
     "text": [
      "\n",
      "Epoch: 34/250 -- Epoch Time: 86.72 s\n",
      "---------------------------------\n",
      "Train -- Loss: 213.659\n",
      "Val -- Loss: 114.139\n"
     ]
    },
    {
     "name": "stderr",
     "output_type": "stream",
     "text": [
      "\r",
      " 14%|███████████                                                                    | 35/250 [50:03<5:12:44, 87.28s/it]"
     ]
    },
    {
     "name": "stdout",
     "output_type": "stream",
     "text": [
      "\n",
      "Epoch: 35/250 -- Epoch Time: 88.46 s\n",
      "---------------------------------\n",
      "Train -- Loss: 179.374\n",
      "Val -- Loss: 112.611\n"
     ]
    },
    {
     "name": "stderr",
     "output_type": "stream",
     "text": [
      "\r",
      " 14%|███████████▍                                                                   | 36/250 [51:33<5:13:24, 87.87s/it]"
     ]
    },
    {
     "name": "stdout",
     "output_type": "stream",
     "text": [
      "\n",
      "Epoch: 36/250 -- Epoch Time: 89.26 s\n",
      "---------------------------------\n",
      "Train -- Loss: 165.990\n",
      "Val -- Loss: 125.691\n"
     ]
    },
    {
     "name": "stderr",
     "output_type": "stream",
     "text": [
      "\r",
      " 15%|███████████▋                                                                   | 37/250 [52:59<5:10:32, 87.48s/it]"
     ]
    },
    {
     "name": "stdout",
     "output_type": "stream",
     "text": [
      "\n",
      "Epoch: 37/250 -- Epoch Time: 86.55 s\n",
      "---------------------------------\n",
      "Train -- Loss: 160.949\n",
      "Val -- Loss: 136.029\n"
     ]
    },
    {
     "name": "stderr",
     "output_type": "stream",
     "text": [
      "\r",
      " 15%|████████████                                                                   | 38/250 [54:26<5:08:18, 87.26s/it]"
     ]
    },
    {
     "name": "stdout",
     "output_type": "stream",
     "text": [
      "\n",
      "Epoch: 38/250 -- Epoch Time: 86.74 s\n",
      "---------------------------------\n",
      "Train -- Loss: 172.067\n",
      "Val -- Loss: 159.506\n"
     ]
    },
    {
     "name": "stderr",
     "output_type": "stream",
     "text": [
      "\r",
      " 16%|████████████▎                                                                  | 39/250 [55:53<5:06:54, 87.27s/it]"
     ]
    },
    {
     "name": "stdout",
     "output_type": "stream",
     "text": [
      "\n",
      "Epoch: 39/250 -- Epoch Time: 87.31 s\n",
      "---------------------------------\n",
      "Train -- Loss: 168.627\n",
      "Val -- Loss: 128.490\n"
     ]
    },
    {
     "name": "stderr",
     "output_type": "stream",
     "text": [
      "\r",
      " 16%|████████████▋                                                                  | 40/250 [57:20<5:05:27, 87.27s/it]"
     ]
    },
    {
     "name": "stdout",
     "output_type": "stream",
     "text": [
      "\n",
      "Epoch: 40/250 -- Epoch Time: 87.27 s\n",
      "---------------------------------\n",
      "Train -- Loss: 163.255\n",
      "Val -- Loss: 123.804\n"
     ]
    },
    {
     "name": "stderr",
     "output_type": "stream",
     "text": [
      "\r",
      " 16%|████████████▉                                                                  | 41/250 [58:47<5:03:28, 87.12s/it]"
     ]
    },
    {
     "name": "stdout",
     "output_type": "stream",
     "text": [
      "\n",
      "Epoch: 41/250 -- Epoch Time: 86.76 s\n",
      "---------------------------------\n",
      "Train -- Loss: 172.527\n",
      "Val -- Loss: 125.356\n"
     ]
    },
    {
     "name": "stderr",
     "output_type": "stream",
     "text": [
      "\r",
      " 17%|████████████▉                                                                | 42/250 [1:00:16<5:03:24, 87.52s/it]"
     ]
    },
    {
     "name": "stdout",
     "output_type": "stream",
     "text": [
      "\n",
      "Epoch: 42/250 -- Epoch Time: 88.46 s\n",
      "---------------------------------\n",
      "Train -- Loss: 178.569\n",
      "Val -- Loss: 120.319\n"
     ]
    },
    {
     "name": "stderr",
     "output_type": "stream",
     "text": [
      "\r",
      " 17%|█████████████▏                                                               | 43/250 [1:01:43<5:01:49, 87.49s/it]"
     ]
    },
    {
     "name": "stdout",
     "output_type": "stream",
     "text": [
      "\n",
      "Epoch: 43/250 -- Epoch Time: 87.39 s\n",
      "---------------------------------\n",
      "Train -- Loss: 159.899\n",
      "Val -- Loss: 143.189\n"
     ]
    },
    {
     "name": "stderr",
     "output_type": "stream",
     "text": [
      "\r",
      " 18%|█████████████▌                                                               | 44/250 [1:03:10<4:59:52, 87.34s/it]"
     ]
    },
    {
     "name": "stdout",
     "output_type": "stream",
     "text": [
      "\n",
      "Epoch: 44/250 -- Epoch Time: 87.00 s\n",
      "---------------------------------\n",
      "Train -- Loss: 160.727\n",
      "Val -- Loss: 127.018\n"
     ]
    },
    {
     "name": "stderr",
     "output_type": "stream",
     "text": [
      "\r",
      " 18%|█████████████▊                                                               | 45/250 [1:04:39<4:59:47, 87.74s/it]"
     ]
    },
    {
     "name": "stdout",
     "output_type": "stream",
     "text": [
      "\n",
      "Epoch: 45/250 -- Epoch Time: 88.68 s\n",
      "---------------------------------\n",
      "Train -- Loss: 167.038\n",
      "Val -- Loss: 129.869\n"
     ]
    },
    {
     "name": "stderr",
     "output_type": "stream",
     "text": [
      "\r",
      " 18%|██████████████▏                                                              | 46/250 [1:06:08<4:59:53, 88.20s/it]"
     ]
    },
    {
     "name": "stdout",
     "output_type": "stream",
     "text": [
      "\n",
      "Epoch: 46/250 -- Epoch Time: 89.27 s\n",
      "---------------------------------\n",
      "Train -- Loss: 143.446\n",
      "Val -- Loss: 144.363\n"
     ]
    },
    {
     "name": "stderr",
     "output_type": "stream",
     "text": [
      "\r",
      " 19%|██████████████▍                                                              | 47/250 [1:07:35<4:57:13, 87.85s/it]"
     ]
    },
    {
     "name": "stdout",
     "output_type": "stream",
     "text": [
      "\n",
      "Epoch: 47/250 -- Epoch Time: 87.02 s\n",
      "---------------------------------\n",
      "Train -- Loss: 168.954\n",
      "Val -- Loss: 121.709\n"
     ]
    },
    {
     "name": "stderr",
     "output_type": "stream",
     "text": [
      "\r",
      " 19%|██████████████▊                                                              | 48/250 [1:09:02<4:54:54, 87.60s/it]"
     ]
    },
    {
     "name": "stdout",
     "output_type": "stream",
     "text": [
      "\n",
      "Epoch: 48/250 -- Epoch Time: 87.01 s\n",
      "---------------------------------\n",
      "Train -- Loss: 188.486\n",
      "Val -- Loss: 109.896\n"
     ]
    },
    {
     "name": "stderr",
     "output_type": "stream",
     "text": [
      "\r",
      " 20%|███████████████                                                              | 49/250 [1:10:30<4:54:14, 87.83s/it]"
     ]
    },
    {
     "name": "stdout",
     "output_type": "stream",
     "text": [
      "\n",
      "Epoch: 49/250 -- Epoch Time: 88.37 s\n",
      "---------------------------------\n",
      "Train -- Loss: 150.337\n",
      "Val -- Loss: 122.200\n"
     ]
    },
    {
     "name": "stderr",
     "output_type": "stream",
     "text": [
      "\r",
      " 20%|███████████████▍                                                             | 50/250 [1:11:58<4:52:37, 87.79s/it]"
     ]
    },
    {
     "name": "stdout",
     "output_type": "stream",
     "text": [
      "\n",
      "Epoch: 50/250 -- Epoch Time: 87.69 s\n",
      "---------------------------------\n",
      "Train -- Loss: 159.298\n",
      "Val -- Loss: 118.167\n"
     ]
    },
    {
     "name": "stderr",
     "output_type": "stream",
     "text": [
      "\r",
      " 20%|███████████████▋                                                             | 51/250 [1:13:25<4:50:12, 87.50s/it]"
     ]
    },
    {
     "name": "stdout",
     "output_type": "stream",
     "text": [
      "\n",
      "Epoch: 51/250 -- Epoch Time: 86.83 s\n",
      "---------------------------------\n",
      "Train -- Loss: 182.680\n",
      "Val -- Loss: 130.748\n"
     ]
    },
    {
     "name": "stderr",
     "output_type": "stream",
     "text": [
      "\r",
      " 21%|████████████████                                                             | 52/250 [1:14:53<4:49:04, 87.60s/it]"
     ]
    },
    {
     "name": "stdout",
     "output_type": "stream",
     "text": [
      "\n",
      "Epoch: 52/250 -- Epoch Time: 87.82 s\n",
      "---------------------------------\n",
      "Train -- Loss: 156.923\n",
      "Val -- Loss: 122.542\n"
     ]
    },
    {
     "name": "stderr",
     "output_type": "stream",
     "text": [
      "\r",
      " 21%|████████████████▎                                                            | 53/250 [1:16:20<4:47:39, 87.61s/it]"
     ]
    },
    {
     "name": "stdout",
     "output_type": "stream",
     "text": [
      "\n",
      "Epoch: 53/250 -- Epoch Time: 87.65 s\n",
      "---------------------------------\n",
      "Train -- Loss: 153.310\n",
      "Val -- Loss: 122.806\n"
     ]
    },
    {
     "name": "stderr",
     "output_type": "stream",
     "text": [
      "\r",
      " 22%|████████████████▋                                                            | 54/250 [1:17:48<4:46:12, 87.62s/it]"
     ]
    },
    {
     "name": "stdout",
     "output_type": "stream",
     "text": [
      "\n",
      "Epoch: 54/250 -- Epoch Time: 87.62 s\n",
      "---------------------------------\n",
      "Train -- Loss: 138.901\n",
      "Val -- Loss: 128.611\n"
     ]
    },
    {
     "name": "stderr",
     "output_type": "stream",
     "text": [
      "\r",
      " 22%|████████████████▉                                                            | 55/250 [1:19:15<4:43:57, 87.37s/it]"
     ]
    },
    {
     "name": "stdout",
     "output_type": "stream",
     "text": [
      "\n",
      "Epoch: 55/250 -- Epoch Time: 86.80 s\n",
      "---------------------------------\n",
      "Train -- Loss: 154.620\n",
      "Val -- Loss: 123.542\n"
     ]
    },
    {
     "name": "stderr",
     "output_type": "stream",
     "text": [
      "\r",
      " 22%|█████████████████▏                                                           | 56/250 [1:20:43<4:43:17, 87.62s/it]"
     ]
    },
    {
     "name": "stdout",
     "output_type": "stream",
     "text": [
      "\n",
      "Epoch: 56/250 -- Epoch Time: 88.18 s\n",
      "---------------------------------\n",
      "Train -- Loss: 157.874\n",
      "Val -- Loss: 161.697\n"
     ]
    },
    {
     "name": "stderr",
     "output_type": "stream",
     "text": [
      "\r",
      " 23%|█████████████████▌                                                           | 57/250 [1:22:10<4:40:51, 87.31s/it]"
     ]
    },
    {
     "name": "stdout",
     "output_type": "stream",
     "text": [
      "\n",
      "Epoch: 57/250 -- Epoch Time: 86.60 s\n",
      "---------------------------------\n",
      "Train -- Loss: 156.015\n",
      "Val -- Loss: 113.253\n"
     ]
    },
    {
     "name": "stderr",
     "output_type": "stream",
     "text": [
      "\r",
      " 23%|█████████████████▊                                                           | 58/250 [1:23:37<4:39:39, 87.39s/it]"
     ]
    },
    {
     "name": "stdout",
     "output_type": "stream",
     "text": [
      "\n",
      "Epoch: 58/250 -- Epoch Time: 87.57 s\n",
      "---------------------------------\n",
      "Train -- Loss: 185.998\n",
      "Val -- Loss: 121.452\n"
     ]
    },
    {
     "name": "stderr",
     "output_type": "stream",
     "text": [
      "\r",
      " 24%|██████████████████▏                                                          | 59/250 [1:25:05<4:38:38, 87.53s/it]"
     ]
    },
    {
     "name": "stdout",
     "output_type": "stream",
     "text": [
      "\n",
      "Epoch: 59/250 -- Epoch Time: 87.85 s\n",
      "---------------------------------\n",
      "Train -- Loss: 157.977\n",
      "Val -- Loss: 113.811\n"
     ]
    },
    {
     "name": "stderr",
     "output_type": "stream",
     "text": [
      "\r",
      " 24%|██████████████████▍                                                          | 60/250 [1:26:32<4:36:37, 87.36s/it]"
     ]
    },
    {
     "name": "stdout",
     "output_type": "stream",
     "text": [
      "\n",
      "Epoch: 60/250 -- Epoch Time: 86.95 s\n",
      "---------------------------------\n",
      "Train -- Loss: 142.326\n",
      "Val -- Loss: 108.381\n"
     ]
    },
    {
     "name": "stderr",
     "output_type": "stream",
     "text": [
      "\r",
      " 24%|██████████████████▊                                                          | 61/250 [1:27:58<4:34:09, 87.03s/it]"
     ]
    },
    {
     "name": "stdout",
     "output_type": "stream",
     "text": [
      "\n",
      "Epoch: 61/250 -- Epoch Time: 86.27 s\n",
      "---------------------------------\n",
      "Train -- Loss: 148.210\n",
      "Val -- Loss: 140.003\n"
     ]
    },
    {
     "name": "stderr",
     "output_type": "stream",
     "text": [
      "\r",
      " 25%|███████████████████                                                          | 62/250 [1:29:25<4:32:35, 87.00s/it]"
     ]
    },
    {
     "name": "stdout",
     "output_type": "stream",
     "text": [
      "\n",
      "Epoch: 62/250 -- Epoch Time: 86.91 s\n",
      "---------------------------------\n",
      "Train -- Loss: 146.193\n",
      "Val -- Loss: 115.100\n"
     ]
    },
    {
     "name": "stderr",
     "output_type": "stream",
     "text": [
      "\r",
      " 25%|███████████████████▍                                                         | 63/250 [1:30:53<4:31:32, 87.13s/it]"
     ]
    },
    {
     "name": "stdout",
     "output_type": "stream",
     "text": [
      "\n",
      "Epoch: 63/250 -- Epoch Time: 87.43 s\n",
      "---------------------------------\n",
      "Train -- Loss: 137.786\n",
      "Val -- Loss: 108.218\n"
     ]
    },
    {
     "name": "stderr",
     "output_type": "stream",
     "text": [
      "\r",
      " 26%|███████████████████▋                                                         | 64/250 [1:32:20<4:30:21, 87.21s/it]"
     ]
    },
    {
     "name": "stdout",
     "output_type": "stream",
     "text": [
      "\n",
      "Epoch: 64/250 -- Epoch Time: 87.41 s\n",
      "---------------------------------\n",
      "Train -- Loss: 149.934\n",
      "Val -- Loss: 116.719\n"
     ]
    },
    {
     "name": "stderr",
     "output_type": "stream",
     "text": [
      "\r",
      " 26%|████████████████████                                                         | 65/250 [1:33:47<4:28:28, 87.07s/it]"
     ]
    },
    {
     "name": "stdout",
     "output_type": "stream",
     "text": [
      "\n",
      "Epoch: 65/250 -- Epoch Time: 86.75 s\n",
      "---------------------------------\n",
      "Train -- Loss: 147.414\n",
      "Val -- Loss: 123.801\n"
     ]
    },
    {
     "name": "stderr",
     "output_type": "stream",
     "text": [
      "\r",
      " 26%|████████████████████▎                                                        | 66/250 [1:35:15<4:27:44, 87.31s/it]"
     ]
    },
    {
     "name": "stdout",
     "output_type": "stream",
     "text": [
      "\n",
      "Epoch: 66/250 -- Epoch Time: 87.85 s\n",
      "---------------------------------\n",
      "Train -- Loss: 125.509\n",
      "Val -- Loss: 129.629\n"
     ]
    },
    {
     "name": "stderr",
     "output_type": "stream",
     "text": [
      "\r",
      " 27%|████████████████████▋                                                        | 67/250 [1:36:41<4:25:50, 87.16s/it]"
     ]
    },
    {
     "name": "stdout",
     "output_type": "stream",
     "text": [
      "\n",
      "Epoch: 67/250 -- Epoch Time: 86.82 s\n",
      "---------------------------------\n",
      "Train -- Loss: 134.804\n",
      "Val -- Loss: 95.250\n"
     ]
    },
    {
     "name": "stderr",
     "output_type": "stream",
     "text": [
      "\r",
      " 27%|████████████████████▉                                                        | 68/250 [1:38:09<4:24:27, 87.19s/it]"
     ]
    },
    {
     "name": "stdout",
     "output_type": "stream",
     "text": [
      "\n",
      "Epoch: 68/250 -- Epoch Time: 87.24 s\n",
      "---------------------------------\n",
      "Train -- Loss: 156.263\n",
      "Val -- Loss: 125.497\n"
     ]
    },
    {
     "name": "stderr",
     "output_type": "stream",
     "text": [
      "\r",
      " 28%|█████████████████████▎                                                       | 69/250 [1:39:35<4:22:31, 87.03s/it]"
     ]
    },
    {
     "name": "stdout",
     "output_type": "stream",
     "text": [
      "\n",
      "Epoch: 69/250 -- Epoch Time: 86.65 s\n",
      "---------------------------------\n",
      "Train -- Loss: 131.029\n",
      "Val -- Loss: 129.550\n"
     ]
    },
    {
     "name": "stderr",
     "output_type": "stream",
     "text": [
      "\r",
      " 28%|█████████████████████▌                                                       | 70/250 [1:41:04<4:22:29, 87.50s/it]"
     ]
    },
    {
     "name": "stdout",
     "output_type": "stream",
     "text": [
      "\n",
      "Epoch: 70/250 -- Epoch Time: 88.59 s\n",
      "---------------------------------\n",
      "Train -- Loss: 144.593\n",
      "Val -- Loss: 120.941\n"
     ]
    },
    {
     "name": "stderr",
     "output_type": "stream",
     "text": [
      "\r",
      " 28%|█████████████████████▊                                                       | 71/250 [1:42:31<4:21:04, 87.51s/it]"
     ]
    },
    {
     "name": "stdout",
     "output_type": "stream",
     "text": [
      "\n",
      "Epoch: 71/250 -- Epoch Time: 87.54 s\n",
      "---------------------------------\n",
      "Train -- Loss: 137.695\n",
      "Val -- Loss: 115.879\n"
     ]
    },
    {
     "name": "stderr",
     "output_type": "stream",
     "text": [
      "\r",
      " 29%|██████████████████████▏                                                      | 72/250 [1:43:58<4:19:09, 87.36s/it]"
     ]
    },
    {
     "name": "stdout",
     "output_type": "stream",
     "text": [
      "\n",
      "Epoch: 72/250 -- Epoch Time: 86.99 s\n",
      "---------------------------------\n",
      "Train -- Loss: 158.489\n",
      "Val -- Loss: 134.474\n"
     ]
    },
    {
     "name": "stderr",
     "output_type": "stream",
     "text": [
      "\r",
      " 29%|██████████████████████▍                                                      | 73/250 [1:45:26<4:18:11, 87.52s/it]"
     ]
    },
    {
     "name": "stdout",
     "output_type": "stream",
     "text": [
      "\n",
      "Epoch: 73/250 -- Epoch Time: 87.90 s\n",
      "---------------------------------\n",
      "Train -- Loss: 144.818\n",
      "Val -- Loss: 107.708\n"
     ]
    },
    {
     "name": "stderr",
     "output_type": "stream",
     "text": [
      "\r",
      " 30%|██████████████████████▊                                                      | 74/250 [1:46:53<4:16:16, 87.37s/it]"
     ]
    },
    {
     "name": "stdout",
     "output_type": "stream",
     "text": [
      "\n",
      "Epoch: 74/250 -- Epoch Time: 87.01 s\n",
      "---------------------------------\n",
      "Train -- Loss: 141.498\n",
      "Val -- Loss: 121.291\n"
     ]
    },
    {
     "name": "stderr",
     "output_type": "stream",
     "text": [
      "\r",
      " 30%|███████████████████████                                                      | 75/250 [1:48:21<4:14:36, 87.29s/it]"
     ]
    },
    {
     "name": "stdout",
     "output_type": "stream",
     "text": [
      "\n",
      "Epoch: 75/250 -- Epoch Time: 87.12 s\n",
      "---------------------------------\n",
      "Train -- Loss: 131.482\n",
      "Val -- Loss: 110.078\n"
     ]
    },
    {
     "name": "stderr",
     "output_type": "stream",
     "text": [
      "\r",
      " 30%|███████████████████████▍                                                     | 76/250 [1:49:48<4:13:17, 87.34s/it]"
     ]
    },
    {
     "name": "stdout",
     "output_type": "stream",
     "text": [
      "\n",
      "Epoch: 76/250 -- Epoch Time: 87.46 s\n",
      "---------------------------------\n",
      "Train -- Loss: 131.849\n",
      "Val -- Loss: 128.838\n"
     ]
    },
    {
     "name": "stderr",
     "output_type": "stream",
     "text": [
      "\r",
      " 31%|███████████████████████▋                                                     | 77/250 [1:51:15<4:11:56, 87.38s/it]"
     ]
    },
    {
     "name": "stdout",
     "output_type": "stream",
     "text": [
      "\n",
      "Epoch: 77/250 -- Epoch Time: 87.46 s\n",
      "---------------------------------\n",
      "Train -- Loss: 124.134\n",
      "Val -- Loss: 110.072\n"
     ]
    },
    {
     "name": "stderr",
     "output_type": "stream",
     "text": [
      "\r",
      " 31%|████████████████████████                                                     | 78/250 [1:52:42<4:10:05, 87.24s/it]"
     ]
    },
    {
     "name": "stdout",
     "output_type": "stream",
     "text": [
      "\n",
      "Epoch: 78/250 -- Epoch Time: 86.91 s\n",
      "---------------------------------\n",
      "Train -- Loss: 144.981\n",
      "Val -- Loss: 127.552\n"
     ]
    },
    {
     "name": "stderr",
     "output_type": "stream",
     "text": [
      "\r",
      " 32%|████████████████████████▎                                                    | 79/250 [1:54:09<4:08:32, 87.21s/it]"
     ]
    },
    {
     "name": "stdout",
     "output_type": "stream",
     "text": [
      "\n",
      "Epoch: 79/250 -- Epoch Time: 87.12 s\n",
      "---------------------------------\n",
      "Train -- Loss: 130.439\n",
      "Val -- Loss: 123.432\n"
     ]
    },
    {
     "name": "stderr",
     "output_type": "stream",
     "text": [
      "\r",
      " 32%|████████████████████████▋                                                    | 80/250 [1:55:37<4:07:31, 87.36s/it]"
     ]
    },
    {
     "name": "stdout",
     "output_type": "stream",
     "text": [
      "\n",
      "Epoch: 80/250 -- Epoch Time: 87.73 s\n",
      "---------------------------------\n",
      "Train -- Loss: 120.824\n",
      "Val -- Loss: 104.255\n"
     ]
    },
    {
     "name": "stderr",
     "output_type": "stream",
     "text": [
      "\r",
      " 32%|████████████████████████▉                                                    | 81/250 [1:57:05<4:06:24, 87.48s/it]"
     ]
    },
    {
     "name": "stdout",
     "output_type": "stream",
     "text": [
      "\n",
      "Epoch: 81/250 -- Epoch Time: 87.76 s\n",
      "---------------------------------\n",
      "Train -- Loss: 141.235\n",
      "Val -- Loss: 118.552\n"
     ]
    },
    {
     "name": "stderr",
     "output_type": "stream",
     "text": [
      "\r",
      " 33%|█████████████████████████▎                                                   | 82/250 [1:58:32<4:04:36, 87.36s/it]"
     ]
    },
    {
     "name": "stdout",
     "output_type": "stream",
     "text": [
      "\n",
      "Epoch: 82/250 -- Epoch Time: 87.07 s\n",
      "---------------------------------\n",
      "Train -- Loss: 127.740\n",
      "Val -- Loss: 108.920\n"
     ]
    },
    {
     "name": "stderr",
     "output_type": "stream",
     "text": [
      "\r",
      " 33%|█████████████████████████▌                                                   | 83/250 [2:00:01<4:04:43, 87.93s/it]"
     ]
    },
    {
     "name": "stdout",
     "output_type": "stream",
     "text": [
      "\n",
      "Epoch: 83/250 -- Epoch Time: 89.25 s\n",
      "---------------------------------\n",
      "Train -- Loss: 145.474\n",
      "Val -- Loss: 113.608\n"
     ]
    },
    {
     "name": "stderr",
     "output_type": "stream",
     "text": [
      "\r",
      " 34%|█████████████████████████▊                                                   | 84/250 [2:01:28<4:02:34, 87.68s/it]"
     ]
    },
    {
     "name": "stdout",
     "output_type": "stream",
     "text": [
      "\n",
      "Epoch: 84/250 -- Epoch Time: 87.08 s\n",
      "---------------------------------\n",
      "Train -- Loss: 135.668\n",
      "Val -- Loss: 99.050\n"
     ]
    },
    {
     "name": "stderr",
     "output_type": "stream",
     "text": [
      "\r",
      " 34%|██████████████████████████▏                                                  | 85/250 [2:02:55<4:00:13, 87.35s/it]"
     ]
    },
    {
     "name": "stdout",
     "output_type": "stream",
     "text": [
      "\n",
      "Epoch: 85/250 -- Epoch Time: 86.60 s\n",
      "---------------------------------\n",
      "Train -- Loss: 154.155\n",
      "Val -- Loss: 160.478\n"
     ]
    },
    {
     "name": "stderr",
     "output_type": "stream",
     "text": [
      "\r",
      " 34%|██████████████████████████▍                                                  | 86/250 [2:04:22<3:58:22, 87.21s/it]"
     ]
    },
    {
     "name": "stdout",
     "output_type": "stream",
     "text": [
      "\n",
      "Epoch: 86/250 -- Epoch Time: 86.87 s\n",
      "---------------------------------\n",
      "Train -- Loss: 137.143\n",
      "Val -- Loss: 129.471\n"
     ]
    },
    {
     "name": "stderr",
     "output_type": "stream",
     "text": [
      "\r",
      " 35%|██████████████████████████▊                                                  | 87/250 [2:05:52<3:58:57, 87.96s/it]"
     ]
    },
    {
     "name": "stdout",
     "output_type": "stream",
     "text": [
      "\n",
      "Epoch: 87/250 -- Epoch Time: 89.71 s\n",
      "---------------------------------\n",
      "Train -- Loss: 162.937\n",
      "Val -- Loss: 131.261\n"
     ]
    },
    {
     "name": "stderr",
     "output_type": "stream",
     "text": [
      "\r",
      " 35%|███████████████████████████                                                  | 88/250 [2:07:20<3:57:36, 88.01s/it]"
     ]
    },
    {
     "name": "stdout",
     "output_type": "stream",
     "text": [
      "\n",
      "Epoch: 88/250 -- Epoch Time: 88.11 s\n",
      "---------------------------------\n",
      "Train -- Loss: 155.407\n",
      "Val -- Loss: 126.553\n"
     ]
    },
    {
     "name": "stderr",
     "output_type": "stream",
     "text": [
      "\r",
      " 36%|███████████████████████████▍                                                 | 89/250 [2:08:47<3:55:53, 87.91s/it]"
     ]
    },
    {
     "name": "stdout",
     "output_type": "stream",
     "text": [
      "\n",
      "Epoch: 89/250 -- Epoch Time: 87.68 s\n",
      "---------------------------------\n",
      "Train -- Loss: 186.595\n",
      "Val -- Loss: 143.043\n"
     ]
    },
    {
     "name": "stderr",
     "output_type": "stream",
     "text": [
      "\r",
      " 36%|███████████████████████████▋                                                 | 90/250 [2:10:15<3:54:10, 87.82s/it]"
     ]
    },
    {
     "name": "stdout",
     "output_type": "stream",
     "text": [
      "\n",
      "Epoch: 90/250 -- Epoch Time: 87.61 s\n",
      "---------------------------------\n",
      "Train -- Loss: 121.238\n",
      "Val -- Loss: 136.805\n"
     ]
    },
    {
     "name": "stderr",
     "output_type": "stream",
     "text": [
      "\r",
      " 36%|████████████████████████████                                                 | 91/250 [2:11:42<3:52:22, 87.69s/it]"
     ]
    },
    {
     "name": "stdout",
     "output_type": "stream",
     "text": [
      "\n",
      "Epoch: 91/250 -- Epoch Time: 87.38 s\n",
      "---------------------------------\n",
      "Train -- Loss: 166.815\n",
      "Val -- Loss: 103.895\n"
     ]
    },
    {
     "name": "stderr",
     "output_type": "stream",
     "text": [
      "\r",
      " 37%|████████████████████████████▎                                                | 92/250 [2:13:09<3:50:02, 87.36s/it]"
     ]
    },
    {
     "name": "stdout",
     "output_type": "stream",
     "text": [
      "\n",
      "Epoch: 92/250 -- Epoch Time: 86.59 s\n",
      "---------------------------------\n",
      "Train -- Loss: 131.523\n",
      "Val -- Loss: 128.987\n"
     ]
    },
    {
     "name": "stderr",
     "output_type": "stream",
     "text": [
      "\r",
      " 37%|████████████████████████████▋                                                | 93/250 [2:14:37<3:48:58, 87.51s/it]"
     ]
    },
    {
     "name": "stdout",
     "output_type": "stream",
     "text": [
      "\n",
      "Epoch: 93/250 -- Epoch Time: 87.84 s\n",
      "---------------------------------\n",
      "Train -- Loss: 117.971\n",
      "Val -- Loss: 114.450\n"
     ]
    },
    {
     "name": "stderr",
     "output_type": "stream",
     "text": [
      "\r",
      " 38%|████████████████████████████▉                                                | 94/250 [2:16:04<3:47:29, 87.50s/it]"
     ]
    },
    {
     "name": "stdout",
     "output_type": "stream",
     "text": [
      "\n",
      "Epoch: 94/250 -- Epoch Time: 87.47 s\n",
      "---------------------------------\n",
      "Train -- Loss: 103.312\n",
      "Val -- Loss: 113.349\n"
     ]
    },
    {
     "name": "stderr",
     "output_type": "stream",
     "text": [
      "\r",
      " 38%|█████████████████████████████▎                                               | 95/250 [2:17:30<3:45:01, 87.10s/it]"
     ]
    },
    {
     "name": "stdout",
     "output_type": "stream",
     "text": [
      "\n",
      "Epoch: 95/250 -- Epoch Time: 86.19 s\n",
      "---------------------------------\n",
      "Train -- Loss: 133.299\n",
      "Val -- Loss: 98.813\n"
     ]
    },
    {
     "name": "stderr",
     "output_type": "stream",
     "text": [
      "\r",
      " 38%|█████████████████████████████▌                                               | 96/250 [2:18:57<3:43:16, 86.99s/it]"
     ]
    },
    {
     "name": "stdout",
     "output_type": "stream",
     "text": [
      "\n",
      "Epoch: 96/250 -- Epoch Time: 86.73 s\n",
      "---------------------------------\n",
      "Train -- Loss: 138.957\n",
      "Val -- Loss: 153.689\n"
     ]
    },
    {
     "name": "stderr",
     "output_type": "stream",
     "text": [
      "\r",
      " 39%|█████████████████████████████▉                                               | 97/250 [2:20:24<3:41:39, 86.93s/it]"
     ]
    },
    {
     "name": "stdout",
     "output_type": "stream",
     "text": [
      "\n",
      "Epoch: 97/250 -- Epoch Time: 86.76 s\n",
      "---------------------------------\n",
      "Train -- Loss: 134.389\n",
      "Val -- Loss: 122.667\n"
     ]
    },
    {
     "name": "stderr",
     "output_type": "stream",
     "text": [
      "\r",
      " 39%|██████████████████████████████▏                                              | 98/250 [2:21:52<3:41:10, 87.31s/it]"
     ]
    },
    {
     "name": "stdout",
     "output_type": "stream",
     "text": [
      "\n",
      "Epoch: 98/250 -- Epoch Time: 88.20 s\n",
      "---------------------------------\n",
      "Train -- Loss: 131.723\n",
      "Val -- Loss: 114.310\n"
     ]
    },
    {
     "name": "stderr",
     "output_type": "stream",
     "text": [
      "\r",
      " 40%|██████████████████████████████▍                                              | 99/250 [2:23:20<3:40:09, 87.48s/it]"
     ]
    },
    {
     "name": "stdout",
     "output_type": "stream",
     "text": [
      "\n",
      "Epoch: 99/250 -- Epoch Time: 87.88 s\n",
      "---------------------------------\n",
      "Train -- Loss: 142.617\n",
      "Val -- Loss: 125.460\n"
     ]
    },
    {
     "name": "stderr",
     "output_type": "stream",
     "text": [
      "\r",
      " 40%|██████████████████████████████▍                                             | 100/250 [2:24:46<3:37:54, 87.16s/it]"
     ]
    },
    {
     "name": "stdout",
     "output_type": "stream",
     "text": [
      "\n",
      "Epoch: 100/250 -- Epoch Time: 86.42 s\n",
      "---------------------------------\n",
      "Train -- Loss: 136.685\n",
      "Val -- Loss: 109.042\n"
     ]
    },
    {
     "name": "stderr",
     "output_type": "stream",
     "text": [
      "\r",
      " 40%|██████████████████████████████▋                                             | 101/250 [2:26:15<3:37:08, 87.44s/it]"
     ]
    },
    {
     "name": "stdout",
     "output_type": "stream",
     "text": [
      "\n",
      "Epoch: 101/250 -- Epoch Time: 88.07 s\n",
      "---------------------------------\n",
      "Train -- Loss: 110.594\n",
      "Val -- Loss: 104.799\n"
     ]
    },
    {
     "name": "stderr",
     "output_type": "stream",
     "text": [
      "\r",
      " 41%|███████████████████████████████                                             | 102/250 [2:27:41<3:34:45, 87.06s/it]"
     ]
    },
    {
     "name": "stdout",
     "output_type": "stream",
     "text": [
      "\n",
      "Epoch: 102/250 -- Epoch Time: 86.19 s\n",
      "---------------------------------\n",
      "Train -- Loss: 117.066\n",
      "Val -- Loss: 129.043\n"
     ]
    },
    {
     "name": "stderr",
     "output_type": "stream",
     "text": [
      "\r",
      " 41%|███████████████████████████████▎                                            | 103/250 [2:29:08<3:33:10, 87.01s/it]"
     ]
    },
    {
     "name": "stdout",
     "output_type": "stream",
     "text": [
      "\n",
      "Epoch: 103/250 -- Epoch Time: 86.89 s\n",
      "---------------------------------\n",
      "Train -- Loss: 128.578\n",
      "Val -- Loss: 89.987\n"
     ]
    },
    {
     "name": "stderr",
     "output_type": "stream",
     "text": [
      "\r",
      " 42%|███████████████████████████████▌                                            | 104/250 [2:30:34<3:31:36, 86.96s/it]"
     ]
    },
    {
     "name": "stdout",
     "output_type": "stream",
     "text": [
      "\n",
      "Epoch: 104/250 -- Epoch Time: 86.83 s\n",
      "---------------------------------\n",
      "Train -- Loss: 142.854\n",
      "Val -- Loss: 123.270\n"
     ]
    },
    {
     "name": "stderr",
     "output_type": "stream",
     "text": [
      "\r",
      " 42%|███████████████████████████████▉                                            | 105/250 [2:32:02<3:30:45, 87.21s/it]"
     ]
    },
    {
     "name": "stdout",
     "output_type": "stream",
     "text": [
      "\n",
      "Epoch: 105/250 -- Epoch Time: 87.78 s\n",
      "---------------------------------\n",
      "Train -- Loss: 162.641\n",
      "Val -- Loss: 110.369\n"
     ]
    },
    {
     "name": "stderr",
     "output_type": "stream",
     "text": [
      "\r",
      " 42%|████████████████████████████████▏                                           | 106/250 [2:33:30<3:29:33, 87.32s/it]"
     ]
    },
    {
     "name": "stdout",
     "output_type": "stream",
     "text": [
      "\n",
      "Epoch: 106/250 -- Epoch Time: 87.57 s\n",
      "---------------------------------\n",
      "Train -- Loss: 155.093\n",
      "Val -- Loss: 101.655\n"
     ]
    },
    {
     "name": "stderr",
     "output_type": "stream",
     "text": [
      "\r",
      " 43%|████████████████████████████████▌                                           | 107/250 [2:34:58<3:28:32, 87.50s/it]"
     ]
    },
    {
     "name": "stdout",
     "output_type": "stream",
     "text": [
      "\n",
      "Epoch: 107/250 -- Epoch Time: 87.93 s\n",
      "---------------------------------\n",
      "Train -- Loss: 155.183\n",
      "Val -- Loss: 129.029\n"
     ]
    },
    {
     "name": "stderr",
     "output_type": "stream",
     "text": [
      "\r",
      " 43%|████████████████████████████████▊                                           | 108/250 [2:36:25<3:26:53, 87.42s/it]"
     ]
    },
    {
     "name": "stdout",
     "output_type": "stream",
     "text": [
      "\n",
      "Epoch: 108/250 -- Epoch Time: 87.24 s\n",
      "---------------------------------\n",
      "Train -- Loss: 127.989\n",
      "Val -- Loss: 128.880\n"
     ]
    },
    {
     "name": "stderr",
     "output_type": "stream",
     "text": [
      "\r",
      " 44%|█████████████████████████████████▏                                          | 109/250 [2:37:52<3:25:04, 87.27s/it]"
     ]
    },
    {
     "name": "stdout",
     "output_type": "stream",
     "text": [
      "\n",
      "Epoch: 109/250 -- Epoch Time: 86.91 s\n",
      "---------------------------------\n",
      "Train -- Loss: 114.037\n",
      "Val -- Loss: 138.067\n"
     ]
    },
    {
     "name": "stderr",
     "output_type": "stream",
     "text": [
      "\r",
      " 44%|█████████████████████████████████▍                                          | 110/250 [2:39:19<3:23:44, 87.32s/it]"
     ]
    },
    {
     "name": "stdout",
     "output_type": "stream",
     "text": [
      "\n",
      "Epoch: 110/250 -- Epoch Time: 87.42 s\n",
      "---------------------------------\n",
      "Train -- Loss: 129.056\n",
      "Val -- Loss: 128.306\n"
     ]
    },
    {
     "name": "stderr",
     "output_type": "stream",
     "text": [
      "\r",
      " 44%|█████████████████████████████████▋                                          | 111/250 [2:40:47<3:22:51, 87.57s/it]"
     ]
    },
    {
     "name": "stdout",
     "output_type": "stream",
     "text": [
      "\n",
      "Epoch: 111/250 -- Epoch Time: 88.15 s\n",
      "---------------------------------\n",
      "Train -- Loss: 136.538\n",
      "Val -- Loss: 161.890\n"
     ]
    },
    {
     "name": "stderr",
     "output_type": "stream",
     "text": [
      "\r",
      " 45%|██████████████████████████████████                                          | 112/250 [2:42:14<3:20:55, 87.36s/it]"
     ]
    },
    {
     "name": "stdout",
     "output_type": "stream",
     "text": [
      "\n",
      "Epoch: 112/250 -- Epoch Time: 86.87 s\n",
      "---------------------------------\n",
      "Train -- Loss: 121.982\n",
      "Val -- Loss: 134.683\n"
     ]
    },
    {
     "name": "stderr",
     "output_type": "stream",
     "text": [
      "\r",
      " 45%|██████████████████████████████████▎                                         | 113/250 [2:43:41<3:18:48, 87.07s/it]"
     ]
    },
    {
     "name": "stdout",
     "output_type": "stream",
     "text": [
      "\n",
      "Epoch: 113/250 -- Epoch Time: 86.39 s\n",
      "---------------------------------\n",
      "Train -- Loss: 127.380\n",
      "Val -- Loss: 144.985\n"
     ]
    },
    {
     "name": "stderr",
     "output_type": "stream",
     "text": [
      "\r",
      " 46%|██████████████████████████████████▋                                         | 114/250 [2:45:09<3:18:09, 87.42s/it]"
     ]
    },
    {
     "name": "stdout",
     "output_type": "stream",
     "text": [
      "\n",
      "Epoch: 114/250 -- Epoch Time: 88.24 s\n",
      "---------------------------------\n",
      "Train -- Loss: 128.638\n",
      "Val -- Loss: 115.075\n"
     ]
    },
    {
     "name": "stderr",
     "output_type": "stream",
     "text": [
      "\r",
      " 46%|██████████████████████████████████▉                                         | 115/250 [2:46:36<3:16:38, 87.40s/it]"
     ]
    },
    {
     "name": "stdout",
     "output_type": "stream",
     "text": [
      "\n",
      "Epoch: 115/250 -- Epoch Time: 87.33 s\n",
      "---------------------------------\n",
      "Train -- Loss: 157.674\n",
      "Val -- Loss: 120.114\n"
     ]
    },
    {
     "name": "stderr",
     "output_type": "stream",
     "text": [
      "\r",
      " 46%|███████████████████████████████████▎                                        | 116/250 [2:48:04<3:15:26, 87.51s/it]"
     ]
    },
    {
     "name": "stdout",
     "output_type": "stream",
     "text": [
      "\n",
      "Epoch: 116/250 -- Epoch Time: 87.79 s\n",
      "---------------------------------\n",
      "Train -- Loss: 131.442\n",
      "Val -- Loss: 117.892\n"
     ]
    },
    {
     "name": "stderr",
     "output_type": "stream",
     "text": [
      "\r",
      " 47%|███████████████████████████████████▌                                        | 117/250 [2:49:31<3:13:53, 87.47s/it]"
     ]
    },
    {
     "name": "stdout",
     "output_type": "stream",
     "text": [
      "\n",
      "Epoch: 117/250 -- Epoch Time: 87.36 s\n",
      "---------------------------------\n",
      "Train -- Loss: 131.347\n",
      "Val -- Loss: 108.086\n"
     ]
    },
    {
     "name": "stderr",
     "output_type": "stream",
     "text": [
      "\r",
      " 47%|███████████████████████████████████▊                                        | 118/250 [2:51:01<3:13:42, 88.05s/it]"
     ]
    },
    {
     "name": "stdout",
     "output_type": "stream",
     "text": [
      "\n",
      "Epoch: 118/250 -- Epoch Time: 89.40 s\n",
      "---------------------------------\n",
      "Train -- Loss: 124.961\n",
      "Val -- Loss: 111.050\n"
     ]
    },
    {
     "name": "stderr",
     "output_type": "stream",
     "text": [
      "\r",
      " 48%|████████████████████████████████████▏                                       | 119/250 [2:52:28<3:11:54, 87.90s/it]"
     ]
    },
    {
     "name": "stdout",
     "output_type": "stream",
     "text": [
      "\n",
      "Epoch: 119/250 -- Epoch Time: 87.54 s\n",
      "---------------------------------\n",
      "Train -- Loss: 137.147\n",
      "Val -- Loss: 111.477\n"
     ]
    },
    {
     "name": "stderr",
     "output_type": "stream",
     "text": [
      "\r",
      " 48%|████████████████████████████████████▍                                       | 120/250 [2:53:55<3:09:22, 87.40s/it]"
     ]
    },
    {
     "name": "stdout",
     "output_type": "stream",
     "text": [
      "\n",
      "Epoch: 120/250 -- Epoch Time: 86.24 s\n",
      "---------------------------------\n",
      "Train -- Loss: 147.059\n",
      "Val -- Loss: 108.172\n"
     ]
    },
    {
     "name": "stderr",
     "output_type": "stream",
     "text": [
      "\r",
      " 48%|████████████████████████████████████▊                                       | 121/250 [2:55:23<3:08:33, 87.70s/it]"
     ]
    },
    {
     "name": "stdout",
     "output_type": "stream",
     "text": [
      "\n",
      "Epoch: 121/250 -- Epoch Time: 88.39 s\n",
      "---------------------------------\n",
      "Train -- Loss: 132.572\n",
      "Val -- Loss: 105.895\n"
     ]
    },
    {
     "name": "stderr",
     "output_type": "stream",
     "text": [
      "\r",
      " 49%|█████████████████████████████████████                                       | 122/250 [2:56:50<3:06:33, 87.45s/it]"
     ]
    },
    {
     "name": "stdout",
     "output_type": "stream",
     "text": [
      "\n",
      "Epoch: 122/250 -- Epoch Time: 86.86 s\n",
      "---------------------------------\n",
      "Train -- Loss: 108.706\n",
      "Val -- Loss: 105.820\n"
     ]
    },
    {
     "name": "stderr",
     "output_type": "stream",
     "text": [
      "\r",
      " 49%|█████████████████████████████████████▍                                      | 123/250 [2:58:18<3:05:19, 87.55s/it]"
     ]
    },
    {
     "name": "stdout",
     "output_type": "stream",
     "text": [
      "\n",
      "Epoch: 123/250 -- Epoch Time: 87.80 s\n",
      "---------------------------------\n",
      "Train -- Loss: 124.333\n",
      "Val -- Loss: 103.365\n"
     ]
    },
    {
     "name": "stderr",
     "output_type": "stream",
     "text": [
      "\r",
      " 50%|█████████████████████████████████████▋                                      | 124/250 [2:59:47<3:05:14, 88.21s/it]"
     ]
    },
    {
     "name": "stdout",
     "output_type": "stream",
     "text": [
      "\n",
      "Epoch: 124/250 -- Epoch Time: 89.73 s\n",
      "---------------------------------\n",
      "Train -- Loss: 114.332\n",
      "Val -- Loss: 103.493\n"
     ]
    },
    {
     "name": "stderr",
     "output_type": "stream",
     "text": [
      "\r",
      " 50%|██████████████████████████████████████                                      | 125/250 [3:01:15<3:03:20, 88.00s/it]"
     ]
    },
    {
     "name": "stdout",
     "output_type": "stream",
     "text": [
      "\n",
      "Epoch: 125/250 -- Epoch Time: 87.52 s\n",
      "---------------------------------\n",
      "Train -- Loss: 117.494\n",
      "Val -- Loss: 119.430\n"
     ]
    },
    {
     "name": "stderr",
     "output_type": "stream",
     "text": [
      "\r",
      " 50%|██████████████████████████████████████▎                                     | 126/250 [3:02:42<3:01:09, 87.65s/it]"
     ]
    },
    {
     "name": "stdout",
     "output_type": "stream",
     "text": [
      "\n",
      "Epoch: 126/250 -- Epoch Time: 86.84 s\n",
      "---------------------------------\n",
      "Train -- Loss: 113.248\n",
      "Val -- Loss: 126.504\n"
     ]
    },
    {
     "name": "stderr",
     "output_type": "stream",
     "text": [
      "\r",
      " 51%|██████████████████████████████████████▌                                     | 127/250 [3:04:09<2:59:19, 87.47s/it]"
     ]
    },
    {
     "name": "stdout",
     "output_type": "stream",
     "text": [
      "\n",
      "Epoch: 127/250 -- Epoch Time: 87.05 s\n",
      "---------------------------------\n",
      "Train -- Loss: 127.635\n",
      "Val -- Loss: 112.480\n"
     ]
    },
    {
     "name": "stderr",
     "output_type": "stream",
     "text": [
      "\r",
      " 51%|██████████████████████████████████████▉                                     | 128/250 [3:05:41<3:00:29, 88.77s/it]"
     ]
    },
    {
     "name": "stdout",
     "output_type": "stream",
     "text": [
      "\n",
      "Epoch: 128/250 -- Epoch Time: 91.80 s\n",
      "---------------------------------\n",
      "Train -- Loss: 112.182\n",
      "Val -- Loss: 123.879\n"
     ]
    },
    {
     "name": "stderr",
     "output_type": "stream",
     "text": [
      "\r",
      " 52%|███████████████████████████████████████▏                                    | 129/250 [3:07:09<2:58:33, 88.54s/it]"
     ]
    },
    {
     "name": "stdout",
     "output_type": "stream",
     "text": [
      "\n",
      "Epoch: 129/250 -- Epoch Time: 88.00 s\n",
      "---------------------------------\n",
      "Train -- Loss: 116.266\n",
      "Val -- Loss: 122.089\n"
     ]
    },
    {
     "name": "stderr",
     "output_type": "stream",
     "text": [
      "\r",
      " 52%|███████████████████████████████████████▌                                    | 130/250 [3:08:35<2:55:44, 87.87s/it]"
     ]
    },
    {
     "name": "stdout",
     "output_type": "stream",
     "text": [
      "\n",
      "Epoch: 130/250 -- Epoch Time: 86.30 s\n",
      "---------------------------------\n",
      "Train -- Loss: 119.095\n",
      "Val -- Loss: 105.861\n"
     ]
    },
    {
     "name": "stderr",
     "output_type": "stream",
     "text": [
      "\r",
      " 52%|███████████████████████████████████████▊                                    | 131/250 [3:10:02<2:53:47, 87.63s/it]"
     ]
    },
    {
     "name": "stdout",
     "output_type": "stream",
     "text": [
      "\n",
      "Epoch: 131/250 -- Epoch Time: 87.06 s\n",
      "---------------------------------\n",
      "Train -- Loss: 121.461\n",
      "Val -- Loss: 87.541\n"
     ]
    },
    {
     "name": "stderr",
     "output_type": "stream",
     "text": [
      "\r",
      " 53%|████████████████████████████████████████▏                                   | 132/250 [3:11:29<2:52:08, 87.53s/it]"
     ]
    },
    {
     "name": "stdout",
     "output_type": "stream",
     "text": [
      "\n",
      "Epoch: 132/250 -- Epoch Time: 87.29 s\n",
      "---------------------------------\n",
      "Train -- Loss: 107.837\n",
      "Val -- Loss: 114.017\n"
     ]
    },
    {
     "name": "stderr",
     "output_type": "stream",
     "text": [
      "\r",
      " 53%|████████████████████████████████████████▍                                   | 133/250 [3:12:56<2:50:21, 87.36s/it]"
     ]
    },
    {
     "name": "stdout",
     "output_type": "stream",
     "text": [
      "\n",
      "Epoch: 133/250 -- Epoch Time: 86.97 s\n",
      "---------------------------------\n",
      "Train -- Loss: 129.176\n",
      "Val -- Loss: 131.853\n"
     ]
    },
    {
     "name": "stderr",
     "output_type": "stream",
     "text": [
      "\r",
      " 54%|████████████████████████████████████████▋                                   | 134/250 [3:14:24<2:49:17, 87.57s/it]"
     ]
    },
    {
     "name": "stdout",
     "output_type": "stream",
     "text": [
      "\n",
      "Epoch: 134/250 -- Epoch Time: 88.05 s\n",
      "---------------------------------\n",
      "Train -- Loss: 118.313\n",
      "Val -- Loss: 94.602\n"
     ]
    },
    {
     "name": "stderr",
     "output_type": "stream",
     "text": [
      "\r",
      " 54%|█████████████████████████████████████████                                   | 135/250 [3:15:52<2:47:46, 87.53s/it]"
     ]
    },
    {
     "name": "stdout",
     "output_type": "stream",
     "text": [
      "\n",
      "Epoch: 135/250 -- Epoch Time: 87.44 s\n",
      "---------------------------------\n",
      "Train -- Loss: 119.921\n",
      "Val -- Loss: 101.459\n"
     ]
    },
    {
     "name": "stderr",
     "output_type": "stream",
     "text": [
      "\r",
      " 54%|█████████████████████████████████████████▎                                  | 136/250 [3:17:18<2:45:37, 87.17s/it]"
     ]
    },
    {
     "name": "stdout",
     "output_type": "stream",
     "text": [
      "\n",
      "Epoch: 136/250 -- Epoch Time: 86.34 s\n",
      "---------------------------------\n",
      "Train -- Loss: 106.305\n",
      "Val -- Loss: 109.945\n"
     ]
    },
    {
     "name": "stderr",
     "output_type": "stream",
     "text": [
      "\r",
      " 55%|█████████████████████████████████████████▋                                  | 137/250 [3:18:45<2:43:42, 86.93s/it]"
     ]
    },
    {
     "name": "stdout",
     "output_type": "stream",
     "text": [
      "\n",
      "Epoch: 137/250 -- Epoch Time: 86.35 s\n",
      "---------------------------------\n",
      "Train -- Loss: 122.710\n",
      "Val -- Loss: 116.050\n"
     ]
    },
    {
     "name": "stderr",
     "output_type": "stream",
     "text": [
      "\r",
      " 55%|█████████████████████████████████████████▉                                  | 138/250 [3:20:11<2:42:10, 86.88s/it]"
     ]
    },
    {
     "name": "stdout",
     "output_type": "stream",
     "text": [
      "\n",
      "Epoch: 138/250 -- Epoch Time: 86.77 s\n",
      "---------------------------------\n",
      "Train -- Loss: 112.520\n",
      "Val -- Loss: 101.871\n"
     ]
    },
    {
     "name": "stderr",
     "output_type": "stream",
     "text": [
      "\r",
      " 56%|██████████████████████████████████████████▎                                 | 139/250 [3:21:39<2:41:09, 87.12s/it]"
     ]
    },
    {
     "name": "stdout",
     "output_type": "stream",
     "text": [
      "\n",
      "Epoch: 139/250 -- Epoch Time: 87.67 s\n",
      "---------------------------------\n",
      "Train -- Loss: 116.664\n",
      "Val -- Loss: 106.399\n"
     ]
    },
    {
     "name": "stderr",
     "output_type": "stream",
     "text": [
      "\r",
      " 56%|██████████████████████████████████████████▌                                 | 140/250 [3:23:06<2:39:34, 87.04s/it]"
     ]
    },
    {
     "name": "stdout",
     "output_type": "stream",
     "text": [
      "\n",
      "Epoch: 140/250 -- Epoch Time: 86.85 s\n",
      "---------------------------------\n",
      "Train -- Loss: 111.968\n",
      "Val -- Loss: 103.880\n"
     ]
    },
    {
     "name": "stderr",
     "output_type": "stream",
     "text": [
      "\r",
      " 56%|██████████████████████████████████████████▊                                 | 141/250 [3:24:34<2:38:42, 87.36s/it]"
     ]
    },
    {
     "name": "stdout",
     "output_type": "stream",
     "text": [
      "\n",
      "Epoch: 141/250 -- Epoch Time: 88.10 s\n",
      "---------------------------------\n",
      "Train -- Loss: 130.533\n",
      "Val -- Loss: 118.136\n"
     ]
    },
    {
     "name": "stderr",
     "output_type": "stream",
     "text": [
      "\r",
      " 57%|███████████████████████████████████████████▏                                | 142/250 [3:26:03<2:38:04, 87.82s/it]"
     ]
    },
    {
     "name": "stdout",
     "output_type": "stream",
     "text": [
      "\n",
      "Epoch: 142/250 -- Epoch Time: 88.90 s\n",
      "---------------------------------\n",
      "Train -- Loss: 126.591\n",
      "Val -- Loss: 119.080\n"
     ]
    },
    {
     "name": "stderr",
     "output_type": "stream",
     "text": [
      "\r",
      " 57%|███████████████████████████████████████████▍                                | 143/250 [3:27:29<2:35:45, 87.34s/it]"
     ]
    },
    {
     "name": "stdout",
     "output_type": "stream",
     "text": [
      "\n",
      "Epoch: 143/250 -- Epoch Time: 86.23 s\n",
      "---------------------------------\n",
      "Train -- Loss: 119.989\n",
      "Val -- Loss: 87.449\n"
     ]
    },
    {
     "name": "stderr",
     "output_type": "stream",
     "text": [
      "\r",
      " 58%|███████████████████████████████████████████▊                                | 144/250 [3:28:56<2:33:57, 87.15s/it]"
     ]
    },
    {
     "name": "stdout",
     "output_type": "stream",
     "text": [
      "\n",
      "Epoch: 144/250 -- Epoch Time: 86.69 s\n",
      "---------------------------------\n",
      "Train -- Loss: 109.977\n",
      "Val -- Loss: 108.590\n"
     ]
    },
    {
     "name": "stderr",
     "output_type": "stream",
     "text": [
      "\r",
      " 58%|████████████████████████████████████████████                                | 145/250 [3:30:23<2:32:24, 87.09s/it]"
     ]
    },
    {
     "name": "stdout",
     "output_type": "stream",
     "text": [
      "\n",
      "Epoch: 145/250 -- Epoch Time: 86.95 s\n",
      "---------------------------------\n",
      "Train -- Loss: 119.823\n",
      "Val -- Loss: 101.938\n"
     ]
    },
    {
     "name": "stderr",
     "output_type": "stream",
     "text": [
      "\r",
      " 58%|████████████████████████████████████████████▍                               | 146/250 [3:31:51<2:31:32, 87.42s/it]"
     ]
    },
    {
     "name": "stdout",
     "output_type": "stream",
     "text": [
      "\n",
      "Epoch: 146/250 -- Epoch Time: 88.21 s\n",
      "---------------------------------\n",
      "Train -- Loss: 123.531\n",
      "Val -- Loss: 113.581\n"
     ]
    },
    {
     "name": "stderr",
     "output_type": "stream",
     "text": [
      "\r",
      " 59%|████████████████████████████████████████████▋                               | 147/250 [3:33:17<2:29:37, 87.16s/it]"
     ]
    },
    {
     "name": "stdout",
     "output_type": "stream",
     "text": [
      "\n",
      "Epoch: 147/250 -- Epoch Time: 86.53 s\n",
      "---------------------------------\n",
      "Train -- Loss: 129.582\n",
      "Val -- Loss: 125.942\n"
     ]
    },
    {
     "name": "stderr",
     "output_type": "stream",
     "text": [
      "\r",
      " 59%|████████████████████████████████████████████▉                               | 148/250 [3:34:44<2:27:50, 86.96s/it]"
     ]
    },
    {
     "name": "stdout",
     "output_type": "stream",
     "text": [
      "\n",
      "Epoch: 148/250 -- Epoch Time: 86.51 s\n",
      "---------------------------------\n",
      "Train -- Loss: 113.861\n",
      "Val -- Loss: 98.065\n"
     ]
    },
    {
     "name": "stderr",
     "output_type": "stream",
     "text": [
      "\r",
      " 60%|█████████████████████████████████████████████▎                              | 149/250 [3:36:12<2:26:44, 87.17s/it]"
     ]
    },
    {
     "name": "stdout",
     "output_type": "stream",
     "text": [
      "\n",
      "Epoch: 149/250 -- Epoch Time: 87.65 s\n",
      "---------------------------------\n",
      "Train -- Loss: 123.933\n",
      "Val -- Loss: 109.602\n"
     ]
    },
    {
     "name": "stderr",
     "output_type": "stream",
     "text": [
      "\r",
      " 60%|█████████████████████████████████████████████▌                              | 150/250 [3:37:39<2:25:26, 87.27s/it]"
     ]
    },
    {
     "name": "stdout",
     "output_type": "stream",
     "text": [
      "\n",
      "Epoch: 150/250 -- Epoch Time: 87.49 s\n",
      "---------------------------------\n",
      "Train -- Loss: 120.298\n",
      "Val -- Loss: 110.300\n"
     ]
    },
    {
     "name": "stderr",
     "output_type": "stream",
     "text": [
      "\r",
      " 60%|█████████████████████████████████████████████▉                              | 151/250 [3:39:06<2:23:51, 87.18s/it]"
     ]
    },
    {
     "name": "stdout",
     "output_type": "stream",
     "text": [
      "\n",
      "Epoch: 151/250 -- Epoch Time: 86.98 s\n",
      "---------------------------------\n",
      "Train -- Loss: 119.353\n",
      "Val -- Loss: 104.051\n"
     ]
    },
    {
     "name": "stderr",
     "output_type": "stream",
     "text": [
      "\r",
      " 61%|██████████████████████████████████████████████▏                             | 152/250 [3:40:34<2:22:47, 87.42s/it]"
     ]
    },
    {
     "name": "stdout",
     "output_type": "stream",
     "text": [
      "\n",
      "Epoch: 152/250 -- Epoch Time: 87.98 s\n",
      "---------------------------------\n",
      "Train -- Loss: 123.382\n",
      "Val -- Loss: 132.508\n"
     ]
    },
    {
     "name": "stderr",
     "output_type": "stream",
     "text": [
      "\r",
      " 61%|██████████████████████████████████████████████▌                             | 153/250 [3:42:01<2:21:07, 87.29s/it]"
     ]
    },
    {
     "name": "stdout",
     "output_type": "stream",
     "text": [
      "\n",
      "Epoch: 153/250 -- Epoch Time: 86.99 s\n",
      "---------------------------------\n",
      "Train -- Loss: 116.304\n",
      "Val -- Loss: 91.005\n"
     ]
    },
    {
     "name": "stderr",
     "output_type": "stream",
     "text": [
      "\r",
      " 62%|██████████████████████████████████████████████▊                             | 154/250 [3:43:28<2:19:22, 87.11s/it]"
     ]
    },
    {
     "name": "stdout",
     "output_type": "stream",
     "text": [
      "\n",
      "Epoch: 154/250 -- Epoch Time: 86.68 s\n",
      "---------------------------------\n",
      "Train -- Loss: 124.658\n",
      "Val -- Loss: 95.008\n"
     ]
    },
    {
     "name": "stderr",
     "output_type": "stream",
     "text": [
      "\r",
      " 62%|███████████████████████████████████████████████                             | 155/250 [3:44:54<2:17:41, 86.96s/it]"
     ]
    },
    {
     "name": "stdout",
     "output_type": "stream",
     "text": [
      "\n",
      "Epoch: 155/250 -- Epoch Time: 86.61 s\n",
      "---------------------------------\n",
      "Train -- Loss: 114.545\n",
      "Val -- Loss: 107.667\n"
     ]
    },
    {
     "name": "stderr",
     "output_type": "stream",
     "text": [
      "\r",
      " 62%|███████████████████████████████████████████████▍                            | 156/250 [3:46:21<2:16:11, 86.93s/it]"
     ]
    },
    {
     "name": "stdout",
     "output_type": "stream",
     "text": [
      "\n",
      "Epoch: 156/250 -- Epoch Time: 86.87 s\n",
      "---------------------------------\n",
      "Train -- Loss: 130.875\n",
      "Val -- Loss: 126.898\n"
     ]
    },
    {
     "name": "stderr",
     "output_type": "stream",
     "text": [
      "\r",
      " 63%|███████████████████████████████████████████████▋                            | 157/250 [3:47:47<2:14:23, 86.70s/it]"
     ]
    },
    {
     "name": "stdout",
     "output_type": "stream",
     "text": [
      "\n",
      "Epoch: 157/250 -- Epoch Time: 86.15 s\n",
      "---------------------------------\n",
      "Train -- Loss: 116.080\n",
      "Val -- Loss: 85.807\n"
     ]
    },
    {
     "name": "stderr",
     "output_type": "stream",
     "text": [
      "\r",
      " 63%|████████████████████████████████████████████████                            | 158/250 [3:49:15<2:13:12, 86.87s/it]"
     ]
    },
    {
     "name": "stdout",
     "output_type": "stream",
     "text": [
      "\n",
      "Epoch: 158/250 -- Epoch Time: 87.28 s\n",
      "---------------------------------\n",
      "Train -- Loss: 115.390\n",
      "Val -- Loss: 101.103\n"
     ]
    },
    {
     "name": "stderr",
     "output_type": "stream",
     "text": [
      "\r",
      " 64%|████████████████████████████████████████████████▎                           | 159/250 [3:50:43<2:12:31, 87.38s/it]"
     ]
    },
    {
     "name": "stdout",
     "output_type": "stream",
     "text": [
      "\n",
      "Epoch: 159/250 -- Epoch Time: 88.56 s\n",
      "---------------------------------\n",
      "Train -- Loss: 102.542\n",
      "Val -- Loss: 102.433\n"
     ]
    },
    {
     "name": "stderr",
     "output_type": "stream",
     "text": [
      "\r",
      " 64%|████████████████████████████████████████████████▋                           | 160/250 [3:52:12<2:11:50, 87.90s/it]"
     ]
    },
    {
     "name": "stdout",
     "output_type": "stream",
     "text": [
      "\n",
      "Epoch: 160/250 -- Epoch Time: 89.11 s\n",
      "---------------------------------\n",
      "Train -- Loss: 124.314\n",
      "Val -- Loss: 141.726\n"
     ]
    },
    {
     "name": "stderr",
     "output_type": "stream",
     "text": [
      "\r",
      " 64%|████████████████████████████████████████████████▉                           | 161/250 [3:53:39<2:09:42, 87.44s/it]"
     ]
    },
    {
     "name": "stdout",
     "output_type": "stream",
     "text": [
      "\n",
      "Epoch: 161/250 -- Epoch Time: 86.37 s\n",
      "---------------------------------\n",
      "Train -- Loss: 109.467\n",
      "Val -- Loss: 106.788\n"
     ]
    },
    {
     "name": "stderr",
     "output_type": "stream",
     "text": [
      "\r",
      " 65%|█████████████████████████████████████████████████▏                          | 162/250 [3:55:06<2:08:04, 87.32s/it]"
     ]
    },
    {
     "name": "stdout",
     "output_type": "stream",
     "text": [
      "\n",
      "Epoch: 162/250 -- Epoch Time: 87.04 s\n",
      "---------------------------------\n",
      "Train -- Loss: 106.679\n",
      "Val -- Loss: 97.822\n"
     ]
    },
    {
     "name": "stderr",
     "output_type": "stream",
     "text": [
      "\r",
      " 65%|█████████████████████████████████████████████████▌                          | 163/250 [3:56:33<2:06:31, 87.26s/it]"
     ]
    },
    {
     "name": "stdout",
     "output_type": "stream",
     "text": [
      "\n",
      "Epoch: 163/250 -- Epoch Time: 87.13 s\n",
      "---------------------------------\n",
      "Train -- Loss: 109.688\n",
      "Val -- Loss: 107.522\n"
     ]
    },
    {
     "name": "stderr",
     "output_type": "stream",
     "text": [
      "\r",
      " 66%|█████████████████████████████████████████████████▊                          | 164/250 [3:58:00<2:05:13, 87.37s/it]"
     ]
    },
    {
     "name": "stdout",
     "output_type": "stream",
     "text": [
      "\n",
      "Epoch: 164/250 -- Epoch Time: 87.60 s\n",
      "---------------------------------\n",
      "Train -- Loss: 115.998\n",
      "Val -- Loss: 115.643\n"
     ]
    },
    {
     "name": "stderr",
     "output_type": "stream",
     "text": [
      "\r",
      " 66%|██████████████████████████████████████████████████▏                         | 165/250 [3:59:28<2:03:57, 87.50s/it]"
     ]
    },
    {
     "name": "stdout",
     "output_type": "stream",
     "text": [
      "\n",
      "Epoch: 165/250 -- Epoch Time: 87.81 s\n",
      "---------------------------------\n",
      "Train -- Loss: 115.320\n",
      "Val -- Loss: 133.423\n"
     ]
    },
    {
     "name": "stderr",
     "output_type": "stream",
     "text": [
      "\r",
      " 66%|██████████████████████████████████████████████████▍                         | 166/250 [4:00:56<2:02:30, 87.51s/it]"
     ]
    },
    {
     "name": "stdout",
     "output_type": "stream",
     "text": [
      "\n",
      "Epoch: 166/250 -- Epoch Time: 87.53 s\n",
      "---------------------------------\n",
      "Train -- Loss: 106.150\n",
      "Val -- Loss: 113.730\n"
     ]
    },
    {
     "name": "stderr",
     "output_type": "stream",
     "text": [
      "\r",
      " 67%|██████████████████████████████████████████████████▊                         | 167/250 [4:02:22<2:00:39, 87.23s/it]"
     ]
    },
    {
     "name": "stdout",
     "output_type": "stream",
     "text": [
      "\n",
      "Epoch: 167/250 -- Epoch Time: 86.56 s\n",
      "---------------------------------\n",
      "Train -- Loss: 123.482\n",
      "Val -- Loss: 113.974\n"
     ]
    },
    {
     "name": "stderr",
     "output_type": "stream",
     "text": [
      "\r",
      " 67%|███████████████████████████████████████████████████                         | 168/250 [4:03:50<1:59:17, 87.29s/it]"
     ]
    },
    {
     "name": "stdout",
     "output_type": "stream",
     "text": [
      "\n",
      "Epoch: 168/250 -- Epoch Time: 87.44 s\n",
      "---------------------------------\n",
      "Train -- Loss: 121.483\n",
      "Val -- Loss: 158.074\n"
     ]
    },
    {
     "name": "stderr",
     "output_type": "stream",
     "text": [
      "\r",
      " 68%|███████████████████████████████████████████████████▍                        | 169/250 [4:05:20<1:59:05, 88.22s/it]"
     ]
    },
    {
     "name": "stdout",
     "output_type": "stream",
     "text": [
      "\n",
      "Epoch: 169/250 -- Epoch Time: 90.38 s\n",
      "---------------------------------\n",
      "Train -- Loss: 133.824\n",
      "Val -- Loss: 116.102\n"
     ]
    },
    {
     "name": "stderr",
     "output_type": "stream",
     "text": [
      "\r",
      " 68%|███████████████████████████████████████████████████▋                        | 170/250 [4:06:48<1:57:29, 88.11s/it]"
     ]
    },
    {
     "name": "stdout",
     "output_type": "stream",
     "text": [
      "\n",
      "Epoch: 170/250 -- Epoch Time: 87.87 s\n",
      "---------------------------------\n",
      "Train -- Loss: 152.498\n",
      "Val -- Loss: 114.428\n"
     ]
    },
    {
     "name": "stderr",
     "output_type": "stream",
     "text": [
      "\r",
      " 68%|███████████████████████████████████████████████████▉                        | 171/250 [4:08:15<1:55:22, 87.63s/it]"
     ]
    },
    {
     "name": "stdout",
     "output_type": "stream",
     "text": [
      "\n",
      "Epoch: 171/250 -- Epoch Time: 86.50 s\n",
      "---------------------------------\n",
      "Train -- Loss: 122.122\n",
      "Val -- Loss: 115.242\n"
     ]
    },
    {
     "name": "stderr",
     "output_type": "stream",
     "text": [
      "\r",
      " 69%|████████████████████████████████████████████████████▎                       | 172/250 [4:09:41<1:53:38, 87.41s/it]"
     ]
    },
    {
     "name": "stdout",
     "output_type": "stream",
     "text": [
      "\n",
      "Epoch: 172/250 -- Epoch Time: 86.90 s\n",
      "---------------------------------\n",
      "Train -- Loss: 131.871\n",
      "Val -- Loss: 97.638\n"
     ]
    },
    {
     "name": "stderr",
     "output_type": "stream",
     "text": [
      "\r",
      " 69%|████████████████████████████████████████████████████▌                       | 173/250 [4:11:09<1:52:18, 87.52s/it]"
     ]
    },
    {
     "name": "stdout",
     "output_type": "stream",
     "text": [
      "\n",
      "Epoch: 173/250 -- Epoch Time: 87.76 s\n",
      "---------------------------------\n",
      "Train -- Loss: 113.203\n",
      "Val -- Loss: 153.381\n"
     ]
    },
    {
     "name": "stderr",
     "output_type": "stream",
     "text": [
      "\r",
      " 70%|████████████████████████████████████████████████████▉                       | 174/250 [4:12:36<1:50:37, 87.34s/it]"
     ]
    },
    {
     "name": "stdout",
     "output_type": "stream",
     "text": [
      "\n",
      "Epoch: 174/250 -- Epoch Time: 86.92 s\n",
      "---------------------------------\n",
      "Train -- Loss: 128.608\n",
      "Val -- Loss: 125.593\n"
     ]
    },
    {
     "name": "stderr",
     "output_type": "stream",
     "text": [
      "\r",
      " 70%|█████████████████████████████████████████████████████▏                      | 175/250 [4:14:03<1:48:55, 87.15s/it]"
     ]
    },
    {
     "name": "stdout",
     "output_type": "stream",
     "text": [
      "\n",
      "Epoch: 175/250 -- Epoch Time: 86.69 s\n",
      "---------------------------------\n",
      "Train -- Loss: 120.583\n",
      "Val -- Loss: 124.899\n"
     ]
    },
    {
     "name": "stderr",
     "output_type": "stream",
     "text": [
      "\r",
      " 70%|█████████████████████████████████████████████████████▌                      | 176/250 [4:15:31<1:47:44, 87.36s/it]"
     ]
    },
    {
     "name": "stdout",
     "output_type": "stream",
     "text": [
      "\n",
      "Epoch: 176/250 -- Epoch Time: 87.85 s\n",
      "---------------------------------\n",
      "Train -- Loss: 123.836\n",
      "Val -- Loss: 111.169\n"
     ]
    },
    {
     "name": "stderr",
     "output_type": "stream",
     "text": [
      "\r",
      " 71%|█████████████████████████████████████████████████████▊                      | 177/250 [4:16:59<1:46:34, 87.60s/it]"
     ]
    },
    {
     "name": "stdout",
     "output_type": "stream",
     "text": [
      "\n",
      "Epoch: 177/250 -- Epoch Time: 88.16 s\n",
      "---------------------------------\n",
      "Train -- Loss: 119.701\n",
      "Val -- Loss: 119.456\n"
     ]
    },
    {
     "name": "stderr",
     "output_type": "stream",
     "text": [
      "\r",
      " 71%|██████████████████████████████████████████████████████                      | 178/250 [4:18:26<1:44:48, 87.34s/it]"
     ]
    },
    {
     "name": "stdout",
     "output_type": "stream",
     "text": [
      "\n",
      "Epoch: 178/250 -- Epoch Time: 86.74 s\n",
      "---------------------------------\n",
      "Train -- Loss: 131.321\n",
      "Val -- Loss: 104.928\n"
     ]
    },
    {
     "name": "stderr",
     "output_type": "stream",
     "text": [
      "\r",
      " 72%|██████████████████████████████████████████████████████▍                     | 179/250 [4:19:53<1:43:19, 87.32s/it]"
     ]
    },
    {
     "name": "stdout",
     "output_type": "stream",
     "text": [
      "\n",
      "Epoch: 179/250 -- Epoch Time: 87.27 s\n",
      "---------------------------------\n",
      "Train -- Loss: 125.129\n",
      "Val -- Loss: 119.842\n"
     ]
    },
    {
     "name": "stderr",
     "output_type": "stream",
     "text": [
      "\r",
      " 72%|██████████████████████████████████████████████████████▋                     | 180/250 [4:21:20<1:41:56, 87.38s/it]"
     ]
    },
    {
     "name": "stdout",
     "output_type": "stream",
     "text": [
      "\n",
      "Epoch: 180/250 -- Epoch Time: 87.50 s\n",
      "---------------------------------\n",
      "Train -- Loss: 136.075\n",
      "Val -- Loss: 108.639\n"
     ]
    },
    {
     "name": "stderr",
     "output_type": "stream",
     "text": [
      "\r",
      " 72%|███████████████████████████████████████████████████████                     | 181/250 [4:22:48<1:40:31, 87.41s/it]"
     ]
    },
    {
     "name": "stdout",
     "output_type": "stream",
     "text": [
      "\n",
      "Epoch: 181/250 -- Epoch Time: 87.49 s\n",
      "---------------------------------\n",
      "Train -- Loss: 116.666\n",
      "Val -- Loss: 115.383\n"
     ]
    },
    {
     "name": "stderr",
     "output_type": "stream",
     "text": [
      "\r",
      " 73%|███████████████████████████████████████████████████████▎                    | 182/250 [4:24:15<1:38:51, 87.23s/it]"
     ]
    },
    {
     "name": "stdout",
     "output_type": "stream",
     "text": [
      "\n",
      "Epoch: 182/250 -- Epoch Time: 86.81 s\n",
      "---------------------------------\n",
      "Train -- Loss: 115.057\n",
      "Val -- Loss: 118.107\n"
     ]
    },
    {
     "name": "stderr",
     "output_type": "stream",
     "text": [
      "\r",
      " 73%|███████████████████████████████████████████████████████▋                    | 183/250 [4:25:42<1:37:18, 87.14s/it]"
     ]
    },
    {
     "name": "stdout",
     "output_type": "stream",
     "text": [
      "\n",
      "Epoch: 183/250 -- Epoch Time: 86.94 s\n",
      "---------------------------------\n",
      "Train -- Loss: 109.087\n",
      "Val -- Loss: 96.449\n"
     ]
    },
    {
     "name": "stderr",
     "output_type": "stream",
     "text": [
      "\r",
      " 74%|███████████████████████████████████████████████████████▉                    | 184/250 [4:27:09<1:35:48, 87.09s/it]"
     ]
    },
    {
     "name": "stdout",
     "output_type": "stream",
     "text": [
      "\n",
      "Epoch: 184/250 -- Epoch Time: 86.97 s\n",
      "---------------------------------\n",
      "Train -- Loss: 115.146\n",
      "Val -- Loss: 103.616\n"
     ]
    },
    {
     "name": "stderr",
     "output_type": "stream",
     "text": [
      "\r",
      " 74%|████████████████████████████████████████████████████████▏                   | 185/250 [4:28:35<1:34:06, 86.87s/it]"
     ]
    },
    {
     "name": "stdout",
     "output_type": "stream",
     "text": [
      "\n",
      "Epoch: 185/250 -- Epoch Time: 86.34 s\n",
      "---------------------------------\n",
      "Train -- Loss: 136.959\n",
      "Val -- Loss: 97.968\n"
     ]
    },
    {
     "name": "stderr",
     "output_type": "stream",
     "text": [
      "\r",
      " 74%|████████████████████████████████████████████████████████▌                   | 186/250 [4:30:03<1:33:08, 87.32s/it]"
     ]
    },
    {
     "name": "stdout",
     "output_type": "stream",
     "text": [
      "\n",
      "Epoch: 186/250 -- Epoch Time: 88.36 s\n",
      "---------------------------------\n",
      "Train -- Loss: 106.194\n",
      "Val -- Loss: 123.825\n"
     ]
    },
    {
     "name": "stderr",
     "output_type": "stream",
     "text": [
      "\r",
      " 75%|████████████████████████████████████████████████████████▊                   | 187/250 [4:31:32<1:32:01, 87.65s/it]"
     ]
    },
    {
     "name": "stdout",
     "output_type": "stream",
     "text": [
      "\n",
      "Epoch: 187/250 -- Epoch Time: 88.42 s\n",
      "---------------------------------\n",
      "Train -- Loss: 119.583\n",
      "Val -- Loss: 114.776\n"
     ]
    },
    {
     "name": "stderr",
     "output_type": "stream",
     "text": [
      "\r",
      " 75%|█████████████████████████████████████████████████████████▏                  | 188/250 [4:32:59<1:30:20, 87.42s/it]"
     ]
    },
    {
     "name": "stdout",
     "output_type": "stream",
     "text": [
      "\n",
      "Epoch: 188/250 -- Epoch Time: 86.90 s\n",
      "---------------------------------\n",
      "Train -- Loss: 128.943\n",
      "Val -- Loss: 106.435\n"
     ]
    },
    {
     "name": "stderr",
     "output_type": "stream",
     "text": [
      "\r",
      " 76%|█████████████████████████████████████████████████████████▍                  | 189/250 [4:34:25<1:28:41, 87.23s/it]"
     ]
    },
    {
     "name": "stdout",
     "output_type": "stream",
     "text": [
      "\n",
      "Epoch: 189/250 -- Epoch Time: 86.79 s\n",
      "---------------------------------\n",
      "Train -- Loss: 128.830\n",
      "Val -- Loss: 109.319\n"
     ]
    },
    {
     "name": "stderr",
     "output_type": "stream",
     "text": [
      "\r",
      " 76%|█████████████████████████████████████████████████████████▊                  | 190/250 [4:35:53<1:27:14, 87.25s/it]"
     ]
    },
    {
     "name": "stdout",
     "output_type": "stream",
     "text": [
      "\n",
      "Epoch: 190/250 -- Epoch Time: 87.28 s\n",
      "---------------------------------\n",
      "Train -- Loss: 125.695\n",
      "Val -- Loss: 140.892\n"
     ]
    },
    {
     "name": "stderr",
     "output_type": "stream",
     "text": [
      "\r",
      " 76%|██████████████████████████████████████████████████████████                  | 191/250 [4:37:20<1:25:49, 87.29s/it]"
     ]
    },
    {
     "name": "stdout",
     "output_type": "stream",
     "text": [
      "\n",
      "Epoch: 191/250 -- Epoch Time: 87.38 s\n",
      "---------------------------------\n",
      "Train -- Loss: 106.107\n",
      "Val -- Loss: 92.128\n"
     ]
    },
    {
     "name": "stderr",
     "output_type": "stream",
     "text": [
      "\r",
      " 77%|██████████████████████████████████████████████████████████▎                 | 192/250 [4:38:47<1:24:08, 87.05s/it]"
     ]
    },
    {
     "name": "stdout",
     "output_type": "stream",
     "text": [
      "\n",
      "Epoch: 192/250 -- Epoch Time: 86.49 s\n",
      "---------------------------------\n",
      "Train -- Loss: 118.252\n",
      "Val -- Loss: 90.354\n"
     ]
    },
    {
     "name": "stderr",
     "output_type": "stream",
     "text": [
      "\r",
      " 77%|██████████████████████████████████████████████████████████▋                 | 193/250 [4:40:14<1:22:51, 87.21s/it]"
     ]
    },
    {
     "name": "stdout",
     "output_type": "stream",
     "text": [
      "\n",
      "Epoch: 193/250 -- Epoch Time: 87.58 s\n",
      "---------------------------------\n",
      "Train -- Loss: 115.197\n",
      "Val -- Loss: 119.975\n"
     ]
    },
    {
     "name": "stderr",
     "output_type": "stream",
     "text": [
      "\r",
      " 78%|██████████████████████████████████████████████████████████▉                 | 194/250 [4:41:43<1:21:49, 87.66s/it]"
     ]
    },
    {
     "name": "stdout",
     "output_type": "stream",
     "text": [
      "\n",
      "Epoch: 194/250 -- Epoch Time: 88.72 s\n",
      "---------------------------------\n",
      "Train -- Loss: 122.082\n",
      "Val -- Loss: 108.558\n"
     ]
    },
    {
     "name": "stderr",
     "output_type": "stream",
     "text": [
      "\r",
      " 78%|███████████████████████████████████████████████████████████▎                | 195/250 [4:43:11<1:20:29, 87.81s/it]"
     ]
    },
    {
     "name": "stdout",
     "output_type": "stream",
     "text": [
      "\n",
      "Epoch: 195/250 -- Epoch Time: 88.15 s\n",
      "---------------------------------\n",
      "Train -- Loss: 124.211\n",
      "Val -- Loss: 94.985\n"
     ]
    },
    {
     "name": "stderr",
     "output_type": "stream",
     "text": [
      "\r",
      " 78%|███████████████████████████████████████████████████████████▌                | 196/250 [4:44:38<1:18:43, 87.48s/it]"
     ]
    },
    {
     "name": "stdout",
     "output_type": "stream",
     "text": [
      "\n",
      "Epoch: 196/250 -- Epoch Time: 86.70 s\n",
      "---------------------------------\n",
      "Train -- Loss: 144.475\n",
      "Val -- Loss: 104.733\n"
     ]
    },
    {
     "name": "stderr",
     "output_type": "stream",
     "text": [
      "\r",
      " 79%|███████████████████████████████████████████████████████████▉                | 197/250 [4:46:05<1:17:14, 87.45s/it]"
     ]
    },
    {
     "name": "stdout",
     "output_type": "stream",
     "text": [
      "\n",
      "Epoch: 197/250 -- Epoch Time: 87.38 s\n",
      "---------------------------------\n",
      "Train -- Loss: 111.720\n",
      "Val -- Loss: 124.328\n"
     ]
    },
    {
     "name": "stderr",
     "output_type": "stream",
     "text": [
      "\r",
      " 79%|████████████████████████████████████████████████████████████▏               | 198/250 [4:47:32<1:15:33, 87.19s/it]"
     ]
    },
    {
     "name": "stdout",
     "output_type": "stream",
     "text": [
      "\n",
      "Epoch: 198/250 -- Epoch Time: 86.57 s\n",
      "---------------------------------\n",
      "Train -- Loss: 122.386\n",
      "Val -- Loss: 91.627\n"
     ]
    },
    {
     "name": "stderr",
     "output_type": "stream",
     "text": [
      "\r",
      " 80%|████████████████████████████████████████████████████████████▍               | 199/250 [4:48:59<1:14:08, 87.22s/it]"
     ]
    },
    {
     "name": "stdout",
     "output_type": "stream",
     "text": [
      "\n",
      "Epoch: 199/250 -- Epoch Time: 87.31 s\n",
      "---------------------------------\n",
      "Train -- Loss: 115.696\n",
      "Val -- Loss: 100.344\n"
     ]
    },
    {
     "name": "stderr",
     "output_type": "stream",
     "text": [
      "\r",
      " 80%|████████████████████████████████████████████████████████████▊               | 200/250 [4:50:26<1:12:35, 87.10s/it]"
     ]
    },
    {
     "name": "stdout",
     "output_type": "stream",
     "text": [
      "\n",
      "Epoch: 200/250 -- Epoch Time: 86.82 s\n",
      "---------------------------------\n",
      "Train -- Loss: 110.885\n",
      "Val -- Loss: 84.925\n"
     ]
    },
    {
     "name": "stderr",
     "output_type": "stream",
     "text": [
      "\r",
      " 80%|█████████████████████████████████████████████████████████████               | 201/250 [4:51:55<1:11:33, 87.63s/it]"
     ]
    },
    {
     "name": "stdout",
     "output_type": "stream",
     "text": [
      "\n",
      "Epoch: 201/250 -- Epoch Time: 88.85 s\n",
      "---------------------------------\n",
      "Train -- Loss: 100.573\n",
      "Val -- Loss: 94.696\n"
     ]
    },
    {
     "name": "stderr",
     "output_type": "stream",
     "text": [
      "\r",
      " 81%|█████████████████████████████████████████████████████████████▍              | 202/250 [4:53:21<1:09:43, 87.16s/it]"
     ]
    },
    {
     "name": "stdout",
     "output_type": "stream",
     "text": [
      "\n",
      "Epoch: 202/250 -- Epoch Time: 86.08 s\n",
      "---------------------------------\n",
      "Train -- Loss: 101.042\n",
      "Val -- Loss: 90.162\n"
     ]
    },
    {
     "name": "stderr",
     "output_type": "stream",
     "text": [
      "\r",
      " 81%|█████████████████████████████████████████████████████████████▋              | 203/250 [4:54:48<1:08:15, 87.13s/it]"
     ]
    },
    {
     "name": "stdout",
     "output_type": "stream",
     "text": [
      "\n",
      "Epoch: 203/250 -- Epoch Time: 87.06 s\n",
      "---------------------------------\n",
      "Train -- Loss: 104.088\n",
      "Val -- Loss: 104.901\n"
     ]
    },
    {
     "name": "stderr",
     "output_type": "stream",
     "text": [
      "\r",
      " 82%|██████████████████████████████████████████████████████████████              | 204/250 [4:56:15<1:06:52, 87.22s/it]"
     ]
    },
    {
     "name": "stdout",
     "output_type": "stream",
     "text": [
      "\n",
      "Epoch: 204/250 -- Epoch Time: 87.42 s\n",
      "---------------------------------\n",
      "Train -- Loss: 96.277\n",
      "Val -- Loss: 129.121\n"
     ]
    },
    {
     "name": "stderr",
     "output_type": "stream",
     "text": [
      "\r",
      " 82%|██████████████████████████████████████████████████████████████▎             | 205/250 [4:57:43<1:05:26, 87.26s/it]"
     ]
    },
    {
     "name": "stdout",
     "output_type": "stream",
     "text": [
      "\n",
      "Epoch: 205/250 -- Epoch Time: 87.35 s\n",
      "---------------------------------\n",
      "Train -- Loss: 92.050\n",
      "Val -- Loss: 127.540\n"
     ]
    },
    {
     "name": "stderr",
     "output_type": "stream",
     "text": [
      "\r",
      " 82%|██████████████████████████████████████████████████████████████▌             | 206/250 [4:59:09<1:03:50, 87.07s/it]"
     ]
    },
    {
     "name": "stdout",
     "output_type": "stream",
     "text": [
      "\n",
      "Epoch: 206/250 -- Epoch Time: 86.61 s\n",
      "---------------------------------\n",
      "Train -- Loss: 92.304\n",
      "Val -- Loss: 105.672\n"
     ]
    },
    {
     "name": "stderr",
     "output_type": "stream",
     "text": [
      "\r",
      " 83%|██████████████████████████████████████████████████████████████▉             | 207/250 [5:00:39<1:02:57, 87.85s/it]"
     ]
    },
    {
     "name": "stdout",
     "output_type": "stream",
     "text": [
      "\n",
      "Epoch: 207/250 -- Epoch Time: 89.69 s\n",
      "---------------------------------\n",
      "Train -- Loss: 112.859\n",
      "Val -- Loss: 104.809\n"
     ]
    },
    {
     "name": "stderr",
     "output_type": "stream",
     "text": [
      "\r",
      " 83%|███████████████████████████████████████████████████████████████▏            | 208/250 [5:02:05<1:01:07, 87.33s/it]"
     ]
    },
    {
     "name": "stdout",
     "output_type": "stream",
     "text": [
      "\n",
      "Epoch: 208/250 -- Epoch Time: 86.11 s\n",
      "---------------------------------\n",
      "Train -- Loss: 95.397\n",
      "Val -- Loss: 113.794\n"
     ]
    },
    {
     "name": "stderr",
     "output_type": "stream",
     "text": [
      "\r",
      " 84%|█████████████████████████████████████████████████████████████████▏            | 209/250 [5:03:32<59:38, 87.28s/it]"
     ]
    },
    {
     "name": "stdout",
     "output_type": "stream",
     "text": [
      "\n",
      "Epoch: 209/250 -- Epoch Time: 87.18 s\n",
      "---------------------------------\n",
      "Train -- Loss: 127.458\n",
      "Val -- Loss: 84.710\n"
     ]
    },
    {
     "name": "stderr",
     "output_type": "stream",
     "text": [
      "\r",
      " 84%|█████████████████████████████████████████████████████████████████▌            | 210/250 [5:05:01<58:30, 87.76s/it]"
     ]
    },
    {
     "name": "stdout",
     "output_type": "stream",
     "text": [
      "\n",
      "Epoch: 210/250 -- Epoch Time: 88.86 s\n",
      "---------------------------------\n",
      "Train -- Loss: 96.091\n",
      "Val -- Loss: 109.981\n"
     ]
    },
    {
     "name": "stderr",
     "output_type": "stream",
     "text": [
      "\r",
      " 84%|█████████████████████████████████████████████████████████████████▊            | 211/250 [5:06:29<57:07, 87.89s/it]"
     ]
    },
    {
     "name": "stdout",
     "output_type": "stream",
     "text": [
      "\n",
      "Epoch: 211/250 -- Epoch Time: 88.19 s\n",
      "---------------------------------\n",
      "Train -- Loss: 105.169\n",
      "Val -- Loss: 96.647\n"
     ]
    },
    {
     "name": "stderr",
     "output_type": "stream",
     "text": [
      "\r",
      " 85%|██████████████████████████████████████████████████████████████████▏           | 212/250 [5:07:56<55:30, 87.65s/it]"
     ]
    },
    {
     "name": "stdout",
     "output_type": "stream",
     "text": [
      "\n",
      "Epoch: 212/250 -- Epoch Time: 87.11 s\n",
      "---------------------------------\n",
      "Train -- Loss: 123.468\n",
      "Val -- Loss: 91.426\n"
     ]
    },
    {
     "name": "stderr",
     "output_type": "stream",
     "text": [
      "\r",
      " 85%|██████████████████████████████████████████████████████████████████▍           | 213/250 [5:09:23<53:53, 87.39s/it]"
     ]
    },
    {
     "name": "stdout",
     "output_type": "stream",
     "text": [
      "\n",
      "Epoch: 213/250 -- Epoch Time: 86.75 s\n",
      "---------------------------------\n",
      "Train -- Loss: 113.457\n",
      "Val -- Loss: 102.351\n"
     ]
    },
    {
     "name": "stderr",
     "output_type": "stream",
     "text": [
      "\r",
      " 86%|██████████████████████████████████████████████████████████████████▊           | 214/250 [5:10:50<52:25, 87.37s/it]"
     ]
    },
    {
     "name": "stdout",
     "output_type": "stream",
     "text": [
      "\n",
      "Epoch: 214/250 -- Epoch Time: 87.35 s\n",
      "---------------------------------\n",
      "Train -- Loss: 109.099\n",
      "Val -- Loss: 105.753\n"
     ]
    },
    {
     "name": "stderr",
     "output_type": "stream",
     "text": [
      "\r",
      " 86%|███████████████████████████████████████████████████████████████████           | 215/250 [5:12:17<50:52, 87.20s/it]"
     ]
    },
    {
     "name": "stdout",
     "output_type": "stream",
     "text": [
      "\n",
      "Epoch: 215/250 -- Epoch Time: 86.79 s\n",
      "---------------------------------\n",
      "Train -- Loss: 105.950\n",
      "Val -- Loss: 107.004\n"
     ]
    },
    {
     "name": "stderr",
     "output_type": "stream",
     "text": [
      "\r",
      " 86%|███████████████████████████████████████████████████████████████████▍          | 216/250 [5:13:44<49:18, 87.00s/it]"
     ]
    },
    {
     "name": "stdout",
     "output_type": "stream",
     "text": [
      "\n",
      "Epoch: 216/250 -- Epoch Time: 86.54 s\n",
      "---------------------------------\n",
      "Train -- Loss: 114.920\n",
      "Val -- Loss: 91.158\n"
     ]
    },
    {
     "name": "stderr",
     "output_type": "stream",
     "text": [
      "\r",
      " 87%|███████████████████████████████████████████████████████████████████▋          | 217/250 [5:15:11<47:53, 87.07s/it]"
     ]
    },
    {
     "name": "stdout",
     "output_type": "stream",
     "text": [
      "\n",
      "Epoch: 217/250 -- Epoch Time: 87.23 s\n",
      "---------------------------------\n",
      "Train -- Loss: 137.548\n",
      "Val -- Loss: 114.606\n"
     ]
    },
    {
     "name": "stderr",
     "output_type": "stream",
     "text": [
      "\r",
      " 87%|████████████████████████████████████████████████████████████████████          | 218/250 [5:16:37<46:16, 86.78s/it]"
     ]
    },
    {
     "name": "stdout",
     "output_type": "stream",
     "text": [
      "\n",
      "Epoch: 218/250 -- Epoch Time: 86.09 s\n",
      "---------------------------------\n",
      "Train -- Loss: 114.363\n",
      "Val -- Loss: 105.370\n"
     ]
    },
    {
     "name": "stderr",
     "output_type": "stream",
     "text": [
      "\r",
      " 88%|████████████████████████████████████████████████████████████████████▎         | 219/250 [5:18:03<44:44, 86.61s/it]"
     ]
    },
    {
     "name": "stdout",
     "output_type": "stream",
     "text": [
      "\n",
      "Epoch: 219/250 -- Epoch Time: 86.22 s\n",
      "---------------------------------\n",
      "Train -- Loss: 123.331\n",
      "Val -- Loss: 121.349\n"
     ]
    },
    {
     "name": "stderr",
     "output_type": "stream",
     "text": [
      "\r",
      " 88%|████████████████████████████████████████████████████████████████████▋         | 220/250 [5:19:29<43:08, 86.29s/it]"
     ]
    },
    {
     "name": "stdout",
     "output_type": "stream",
     "text": [
      "\n",
      "Epoch: 220/250 -- Epoch Time: 85.54 s\n",
      "---------------------------------\n",
      "Train -- Loss: 130.198\n",
      "Val -- Loss: 131.209\n"
     ]
    },
    {
     "name": "stderr",
     "output_type": "stream",
     "text": [
      "\r",
      " 88%|████████████████████████████████████████████████████████████████████▉         | 221/250 [5:20:57<41:56, 86.77s/it]"
     ]
    },
    {
     "name": "stdout",
     "output_type": "stream",
     "text": [
      "\n",
      "Epoch: 221/250 -- Epoch Time: 87.88 s\n",
      "---------------------------------\n",
      "Train -- Loss: 126.306\n",
      "Val -- Loss: 124.201\n"
     ]
    },
    {
     "name": "stderr",
     "output_type": "stream",
     "text": [
      "\r",
      " 89%|█████████████████████████████████████████████████████████████████████▎        | 222/250 [5:22:24<40:30, 86.82s/it]"
     ]
    },
    {
     "name": "stdout",
     "output_type": "stream",
     "text": [
      "\n",
      "Epoch: 222/250 -- Epoch Time: 86.93 s\n",
      "---------------------------------\n",
      "Train -- Loss: 150.822\n",
      "Val -- Loss: 109.380\n"
     ]
    },
    {
     "name": "stderr",
     "output_type": "stream",
     "text": [
      "\r",
      " 89%|█████████████████████████████████████████████████████████████████████▌        | 223/250 [5:23:51<39:05, 86.87s/it]"
     ]
    },
    {
     "name": "stdout",
     "output_type": "stream",
     "text": [
      "\n",
      "Epoch: 223/250 -- Epoch Time: 86.98 s\n",
      "---------------------------------\n",
      "Train -- Loss: 130.479\n",
      "Val -- Loss: 117.354\n"
     ]
    },
    {
     "name": "stderr",
     "output_type": "stream",
     "text": [
      "\r",
      " 90%|█████████████████████████████████████████████████████████████████████▉        | 224/250 [5:25:18<37:40, 86.94s/it]"
     ]
    },
    {
     "name": "stdout",
     "output_type": "stream",
     "text": [
      "\n",
      "Epoch: 224/250 -- Epoch Time: 87.10 s\n",
      "---------------------------------\n",
      "Train -- Loss: 124.322\n",
      "Val -- Loss: 115.586\n"
     ]
    },
    {
     "name": "stderr",
     "output_type": "stream",
     "text": [
      "\r",
      " 90%|██████████████████████████████████████████████████████████████████████▏       | 225/250 [5:26:44<36:11, 86.85s/it]"
     ]
    },
    {
     "name": "stdout",
     "output_type": "stream",
     "text": [
      "\n",
      "Epoch: 225/250 -- Epoch Time: 86.65 s\n",
      "---------------------------------\n",
      "Train -- Loss: 133.974\n",
      "Val -- Loss: 88.343\n"
     ]
    },
    {
     "name": "stderr",
     "output_type": "stream",
     "text": [
      "\r",
      " 90%|██████████████████████████████████████████████████████████████████████▌       | 226/250 [5:28:11<34:39, 86.64s/it]"
     ]
    },
    {
     "name": "stdout",
     "output_type": "stream",
     "text": [
      "\n",
      "Epoch: 226/250 -- Epoch Time: 86.13 s\n",
      "---------------------------------\n",
      "Train -- Loss: 114.306\n",
      "Val -- Loss: 125.829\n"
     ]
    },
    {
     "name": "stderr",
     "output_type": "stream",
     "text": [
      "\r",
      " 91%|██████████████████████████████████████████████████████████████████████▊       | 227/250 [5:29:37<33:10, 86.56s/it]"
     ]
    },
    {
     "name": "stdout",
     "output_type": "stream",
     "text": [
      "\n",
      "Epoch: 227/250 -- Epoch Time: 86.37 s\n",
      "---------------------------------\n",
      "Train -- Loss: 120.080\n",
      "Val -- Loss: 105.559\n"
     ]
    },
    {
     "name": "stderr",
     "output_type": "stream",
     "text": [
      "\r",
      " 91%|███████████████████████████████████████████████████████████████████████▏      | 228/250 [5:31:04<31:44, 86.57s/it]"
     ]
    },
    {
     "name": "stdout",
     "output_type": "stream",
     "text": [
      "\n",
      "Epoch: 228/250 -- Epoch Time: 86.59 s\n",
      "---------------------------------\n",
      "Train -- Loss: 108.786\n",
      "Val -- Loss: 119.237\n"
     ]
    },
    {
     "name": "stderr",
     "output_type": "stream",
     "text": [
      "\r",
      " 92%|███████████████████████████████████████████████████████████████████████▍      | 229/250 [5:32:31<30:21, 86.72s/it]"
     ]
    },
    {
     "name": "stdout",
     "output_type": "stream",
     "text": [
      "\n",
      "Epoch: 229/250 -- Epoch Time: 87.06 s\n",
      "---------------------------------\n",
      "Train -- Loss: 101.927\n",
      "Val -- Loss: 103.601\n"
     ]
    },
    {
     "name": "stderr",
     "output_type": "stream",
     "text": [
      "\r",
      " 92%|███████████████████████████████████████████████████████████████████████▊      | 230/250 [5:33:58<28:59, 86.95s/it]"
     ]
    },
    {
     "name": "stdout",
     "output_type": "stream",
     "text": [
      "\n",
      "Epoch: 230/250 -- Epoch Time: 87.50 s\n",
      "---------------------------------\n",
      "Train -- Loss: 119.777\n",
      "Val -- Loss: 96.385\n"
     ]
    },
    {
     "name": "stderr",
     "output_type": "stream",
     "text": [
      "\r",
      " 92%|████████████████████████████████████████████████████████████████████████      | 231/250 [5:35:25<27:33, 87.05s/it]"
     ]
    },
    {
     "name": "stdout",
     "output_type": "stream",
     "text": [
      "\n",
      "Epoch: 231/250 -- Epoch Time: 87.28 s\n",
      "---------------------------------\n",
      "Train -- Loss: 109.465\n",
      "Val -- Loss: 90.789\n"
     ]
    },
    {
     "name": "stderr",
     "output_type": "stream",
     "text": [
      "\r",
      " 93%|████████████████████████████████████████████████████████████████████████▍     | 232/250 [5:36:53<26:09, 87.22s/it]"
     ]
    },
    {
     "name": "stdout",
     "output_type": "stream",
     "text": [
      "\n",
      "Epoch: 232/250 -- Epoch Time: 87.60 s\n",
      "---------------------------------\n",
      "Train -- Loss: 95.843\n",
      "Val -- Loss: 115.720\n"
     ]
    },
    {
     "name": "stderr",
     "output_type": "stream",
     "text": [
      "\r",
      " 93%|████████████████████████████████████████████████████████████████████████▋     | 233/250 [5:38:20<24:40, 87.07s/it]"
     ]
    },
    {
     "name": "stdout",
     "output_type": "stream",
     "text": [
      "\n",
      "Epoch: 233/250 -- Epoch Time: 86.72 s\n",
      "---------------------------------\n",
      "Train -- Loss: 113.064\n",
      "Val -- Loss: 111.295\n"
     ]
    },
    {
     "name": "stderr",
     "output_type": "stream",
     "text": [
      "\r",
      " 94%|█████████████████████████████████████████████████████████████████████████     | 234/250 [5:39:46<23:09, 86.86s/it]"
     ]
    },
    {
     "name": "stdout",
     "output_type": "stream",
     "text": [
      "\n",
      "Epoch: 234/250 -- Epoch Time: 86.38 s\n",
      "---------------------------------\n",
      "Train -- Loss: 96.286\n",
      "Val -- Loss: 115.381\n"
     ]
    },
    {
     "name": "stderr",
     "output_type": "stream",
     "text": [
      "\r",
      " 94%|█████████████████████████████████████████████████████████████████████████▎    | 235/250 [5:41:14<21:48, 87.22s/it]"
     ]
    },
    {
     "name": "stdout",
     "output_type": "stream",
     "text": [
      "\n",
      "Epoch: 235/250 -- Epoch Time: 88.07 s\n",
      "---------------------------------\n",
      "Train -- Loss: 100.212\n",
      "Val -- Loss: 119.494\n"
     ]
    },
    {
     "name": "stderr",
     "output_type": "stream",
     "text": [
      "\r",
      " 94%|█████████████████████████████████████████████████████████████████████████▋    | 236/250 [5:42:40<20:16, 86.90s/it]"
     ]
    },
    {
     "name": "stdout",
     "output_type": "stream",
     "text": [
      "\n",
      "Epoch: 236/250 -- Epoch Time: 86.14 s\n",
      "---------------------------------\n",
      "Train -- Loss: 118.553\n",
      "Val -- Loss: 125.314\n"
     ]
    },
    {
     "name": "stderr",
     "output_type": "stream",
     "text": [
      "\r",
      " 95%|█████████████████████████████████████████████████████████████████████████▉    | 237/250 [5:44:06<18:46, 86.64s/it]"
     ]
    },
    {
     "name": "stdout",
     "output_type": "stream",
     "text": [
      "\n",
      "Epoch: 237/250 -- Epoch Time: 86.04 s\n",
      "---------------------------------\n",
      "Train -- Loss: 94.176\n",
      "Val -- Loss: 105.353\n"
     ]
    },
    {
     "name": "stderr",
     "output_type": "stream",
     "text": [
      "\r",
      " 95%|██████████████████████████████████████████████████████████████████████████▎   | 238/250 [5:45:33<17:20, 86.72s/it]"
     ]
    },
    {
     "name": "stdout",
     "output_type": "stream",
     "text": [
      "\n",
      "Epoch: 238/250 -- Epoch Time: 86.89 s\n",
      "---------------------------------\n",
      "Train -- Loss: 102.395\n",
      "Val -- Loss: 94.542\n"
     ]
    },
    {
     "name": "stderr",
     "output_type": "stream",
     "text": [
      "\r",
      " 96%|██████████████████████████████████████████████████████████████████████████▌   | 239/250 [5:47:00<15:53, 86.71s/it]"
     ]
    },
    {
     "name": "stdout",
     "output_type": "stream",
     "text": [
      "\n",
      "Epoch: 239/250 -- Epoch Time: 86.69 s\n",
      "---------------------------------\n",
      "Train -- Loss: 111.782\n",
      "Val -- Loss: 90.124\n"
     ]
    },
    {
     "name": "stderr",
     "output_type": "stream",
     "text": [
      "\r",
      " 96%|██████████████████████████████████████████████████████████████████████████▉   | 240/250 [5:48:27<14:27, 86.80s/it]"
     ]
    },
    {
     "name": "stdout",
     "output_type": "stream",
     "text": [
      "\n",
      "Epoch: 240/250 -- Epoch Time: 87.00 s\n",
      "---------------------------------\n",
      "Train -- Loss: 102.688\n",
      "Val -- Loss: 113.844\n"
     ]
    },
    {
     "name": "stderr",
     "output_type": "stream",
     "text": [
      "\r",
      " 96%|███████████████████████████████████████████████████████████████████████████▏  | 241/250 [5:49:54<13:01, 86.81s/it]"
     ]
    },
    {
     "name": "stdout",
     "output_type": "stream",
     "text": [
      "\n",
      "Epoch: 241/250 -- Epoch Time: 86.85 s\n",
      "---------------------------------\n",
      "Train -- Loss: 116.152\n",
      "Val -- Loss: 103.496\n"
     ]
    },
    {
     "name": "stderr",
     "output_type": "stream",
     "text": [
      "\r",
      " 97%|███████████████████████████████████████████████████████████████████████████▌  | 242/250 [5:51:21<11:36, 87.07s/it]"
     ]
    },
    {
     "name": "stdout",
     "output_type": "stream",
     "text": [
      "\n",
      "Epoch: 242/250 -- Epoch Time: 87.66 s\n",
      "---------------------------------\n",
      "Train -- Loss: 110.708\n",
      "Val -- Loss: 99.309\n"
     ]
    },
    {
     "name": "stderr",
     "output_type": "stream",
     "text": [
      "\r",
      " 97%|███████████████████████████████████████████████████████████████████████████▊  | 243/250 [5:52:49<10:09, 87.14s/it]"
     ]
    },
    {
     "name": "stdout",
     "output_type": "stream",
     "text": [
      "\n",
      "Epoch: 243/250 -- Epoch Time: 87.30 s\n",
      "---------------------------------\n",
      "Train -- Loss: 116.762\n",
      "Val -- Loss: 91.354\n"
     ]
    },
    {
     "name": "stderr",
     "output_type": "stream",
     "text": [
      "\r",
      " 98%|████████████████████████████████████████████████████████████████████████████▏ | 244/250 [5:54:15<08:41, 86.99s/it]"
     ]
    },
    {
     "name": "stdout",
     "output_type": "stream",
     "text": [
      "\n",
      "Epoch: 244/250 -- Epoch Time: 86.64 s\n",
      "---------------------------------\n",
      "Train -- Loss: 115.418\n",
      "Val -- Loss: 106.129\n"
     ]
    },
    {
     "name": "stderr",
     "output_type": "stream",
     "text": [
      "\r",
      " 98%|████████████████████████████████████████████████████████████████████████████▍ | 245/250 [5:55:42<07:15, 87.02s/it]"
     ]
    },
    {
     "name": "stdout",
     "output_type": "stream",
     "text": [
      "\n",
      "Epoch: 245/250 -- Epoch Time: 87.10 s\n",
      "---------------------------------\n",
      "Train -- Loss: 99.437\n",
      "Val -- Loss: 114.614\n"
     ]
    },
    {
     "name": "stderr",
     "output_type": "stream",
     "text": [
      "\r",
      " 98%|████████████████████████████████████████████████████████████████████████████▊ | 246/250 [5:57:10<05:48, 87.08s/it]"
     ]
    },
    {
     "name": "stdout",
     "output_type": "stream",
     "text": [
      "\n",
      "Epoch: 246/250 -- Epoch Time: 87.22 s\n",
      "---------------------------------\n",
      "Train -- Loss: 114.982\n",
      "Val -- Loss: 104.192\n"
     ]
    },
    {
     "name": "stderr",
     "output_type": "stream",
     "text": [
      "\r",
      " 99%|█████████████████████████████████████████████████████████████████████████████ | 247/250 [5:58:37<04:21, 87.26s/it]"
     ]
    },
    {
     "name": "stdout",
     "output_type": "stream",
     "text": [
      "\n",
      "Epoch: 247/250 -- Epoch Time: 87.66 s\n",
      "---------------------------------\n",
      "Train -- Loss: 122.154\n",
      "Val -- Loss: 117.858\n"
     ]
    },
    {
     "name": "stderr",
     "output_type": "stream",
     "text": [
      "\r",
      " 99%|█████████████████████████████████████████████████████████████████████████████▍| 248/250 [6:00:06<02:55, 87.76s/it]"
     ]
    },
    {
     "name": "stdout",
     "output_type": "stream",
     "text": [
      "\n",
      "Epoch: 248/250 -- Epoch Time: 88.93 s\n",
      "---------------------------------\n",
      "Train -- Loss: 119.826\n",
      "Val -- Loss: 96.972\n"
     ]
    },
    {
     "name": "stderr",
     "output_type": "stream",
     "text": [
      "\r",
      "100%|█████████████████████████████████████████████████████████████████████████████▋| 249/250 [6:01:37<01:28, 88.59s/it]"
     ]
    },
    {
     "name": "stdout",
     "output_type": "stream",
     "text": [
      "\n",
      "Epoch: 249/250 -- Epoch Time: 90.52 s\n",
      "---------------------------------\n",
      "Train -- Loss: 119.782\n",
      "Val -- Loss: 119.767\n"
     ]
    },
    {
     "name": "stderr",
     "output_type": "stream",
     "text": [
      "100%|██████████████████████████████████████████████████████████████████████████████| 250/250 [6:03:03<00:00, 87.14s/it]"
     ]
    },
    {
     "name": "stdout",
     "output_type": "stream",
     "text": [
      "\n",
      "Epoch: 250/250 -- Epoch Time: 86.52 s\n",
      "---------------------------------\n",
      "Train -- Loss: 111.005\n",
      "Val -- Loss: 121.308\n"
     ]
    },
    {
     "name": "stderr",
     "output_type": "stream",
     "text": [
      "\n"
     ]
    }
   ],
   "source": [
    "writer = SummaryWriter(f\"./runs/only_geometric_augmentation_lr_{learning_rate}_epochs_{max_epochs}_scale_{scale}2\")\n",
    "train_loss, test_loss = model.training_cycle(device,\n",
    "                                train_dataloader,\n",
    "                                validation_dataloader,\n",
    "                                loss_fn,\n",
    "                                optimizer,\n",
    "                                max_epochs,\n",
    "                                verbose=True)\n",
    "### To end TensorBoard writings\n",
    "writer.close()"
   ]
  },
  {
   "cell_type": "code",
   "execution_count": 21,
   "id": "612a842e",
   "metadata": {},
   "outputs": [],
   "source": [
    "### Save model\n",
    "os.makedirs('./Models', exist_ok=True)\n",
    "torch.save(model.state_dict(), f'Models/_lr_{learning_rate}_scale_{scale}2.pth')"
   ]
  },
  {
   "cell_type": "code",
   "execution_count": 22,
   "id": "05dc63b3",
   "metadata": {},
   "outputs": [
    {
     "data": {
      "image/png": "[encoded data removed]",
      "text/plain": [
       "<Figure size 504x360 with 1 Axes>"
      ]
     },
     "metadata": {
      "needs_background": "light"
     },
     "output_type": "display_data"
    }
   ],
   "source": [
    "# Plot losses by epoch\n",
    "plt.figure(figsize=(7,5))\n",
    "plt.semilogy(train_loss, linestyle='--', marker='o', color='r', label='Train loss')\n",
    "plt.semilogy(test_loss, linestyle='--', marker='o', color='g', label='Validation loss')\n",
    "plt.xlabel('Epoch',fontsize=15)\n",
    "plt.ylabel('Loss',fontsize=15)\n",
    "#plt.ylim(0,80)\n",
    "plt.title(\"Losses\",fontsize=15)\n",
    "plt.grid()\n",
    "plt.legend()\n",
    "#plt.savefig('./imgs/classification/losses.svg', format='svg')\n",
    "plt.show()"
   ]
  },
  {
   "cell_type": "markdown",
   "id": "3f420b61",
   "metadata": {},
   "source": [
    "# Testing"
   ]
  },
  {
   "cell_type": "code",
   "execution_count": 26,
   "id": "c3645ab7",
   "metadata": {},
   "outputs": [
    {
     "data": {
      "text/plain": [
       "<All keys matched successfully>"
      ]
     },
     "execution_count": 26,
     "metadata": {},
     "output_type": "execute_result"
    }
   ],
   "source": [
    "# Load network parameters\n",
    "model.load_state_dict(torch.load(f'Models/_lr_{learning_rate}_scale_{scale}.pth'))"
   ]
  },
  {
   "cell_type": "code",
   "execution_count": 23,
   "id": "ebb32d69",
   "metadata": {},
   "outputs": [],
   "source": [
    "### Evaluation on test set\n",
    "with torch.no_grad():\n",
    "    for data in test_dataloader:\n",
    "        # get the inputs; data is a list of [inputs, labels]\n",
    "        inputs, labels, shapes, counts = data\n",
    "        inputs = inputs.to(device)\n",
    "        # forward \n",
    "        outputs = model(inputs, \"Test\")\n"
   ]
  },
  {
   "cell_type": "markdown",
   "id": "d3edd395",
   "metadata": {},
   "source": [
    "### Statistics on the test set"
   ]
  },
  {
   "cell_type": "code",
   "execution_count": 24,
   "id": "08a0966c",
   "metadata": {},
   "outputs": [
    {
     "name": "stdout",
     "output_type": "stream",
     "text": [
      "Predicted map:\n",
      "Shape torch.Size([1, 224, 224])\n",
      "Min tensor(0.3630)\n",
      "Maxp tensor(1.5059)\n",
      "\n",
      "Original map:\n",
      "Shape torch.Size([1, 224, 224])\n",
      "Min tensor(0.)\n",
      "Maxp tensor(24.5207)\n"
     ]
    }
   ],
   "source": [
    "idx = 2\n",
    "input_image = inputs.detach().cpu().numpy()[idx]\n",
    "predicted_map = outputs[idx]\n",
    "original_map = labels[idx]\n",
    "\n",
    "print(\"Predicted map:\")\n",
    "print(\"Shape\",predicted_map.shape)\n",
    "print(\"Min\", predicted_map.min())\n",
    "print(\"Maxp\",predicted_map.max())\n",
    "print(\"\")\n",
    "print(\"Original map:\")\n",
    "print(\"Shape\",original_map.shape)\n",
    "print(\"Min\",original_map.min())\n",
    "print(\"Maxp\",original_map.max())"
   ]
  },
  {
   "cell_type": "markdown",
   "id": "ac4b8d57",
   "metadata": {},
   "source": [
    "Basically it is predicting all as 0 and thats why it is achieving such a low loss, so i will enlarge it to get better results."
   ]
  },
  {
   "cell_type": "code",
   "execution_count": 25,
   "id": "e910d54d",
   "metadata": {},
   "outputs": [
    {
     "data": {
      "image/png": "[encoded data removed]",
      "text/plain": [
       "<Figure size 864x432 with 15 Axes>"
      ]
     },
     "metadata": {},
     "output_type": "display_data"
    }
   ],
   "source": [
    "elements = [0,1,2,3,4]#random.sample([i for i in range(len(test_dataset))], 5)\n",
    "\n",
    "fig, axs = plt.subplots(3, 5, figsize=(12,6))\n",
    "fig.suptitle(\"\",fontsize=15)\n",
    "fig.subplots_adjust(top=0.88)\n",
    "axs = axs.ravel()\n",
    "for i in range(5):\n",
    "    idx = elements[i]\n",
    "    ### Move the images to the right shapes\n",
    "    UP = nn.Upsample(size=(shapes[0][idx],shapes[1][idx]),mode='bilinear')\n",
    "    img = inputs[idx]#.numpy().transpose(1, 2, 0)\n",
    "    img = img[None, :]\n",
    "    img = UP(img)\n",
    "    img = img[0].numpy().transpose(1, 2, 0)\n",
    "\n",
    "    label = labels[idx]#.numpy().transpose(1, 2, 0)\n",
    "    label = label[None, :]\n",
    "    label = UP(label)\n",
    "    label = label[0].numpy().transpose(1, 2, 0)\n",
    "    \n",
    "    map_ = outputs[idx]#.numpy().transpose(1, 2, 0)\n",
    "    map_ = map_[None, :]\n",
    "    map_ = UP(map_)\n",
    "    map_ = map_[0].numpy().transpose(1, 2, 0) \n",
    "    \n",
    "    # Plot the reconstructed image\n",
    "    axs[i].imshow(img)\n",
    "    axs[i].set_title(f\"Real count = {counts[idx]}\")\n",
    "    axs[i].set_xticks([])\n",
    "    axs[i].set_yticks([])\n",
    "    axs[i+5].imshow(label)\n",
    "    axs[i+5].set_title(f\"Map count= {int(label.sum()/scale)}\")\n",
    "    axs[i+5].set_xticks([])\n",
    "    axs[i+5].set_yticks([])\n",
    "    axs[i+10].imshow(map_)\n",
    "    axs[i+10].set_title(f\"Map count= {int(map_.sum()/scale)}\")\n",
    "    axs[i+10].set_xticks([])\n",
    "    axs[i+10].set_yticks([])\n",
    "plt.tight_layout()\n",
    "fig.subplots_adjust(top=0.88)"
   ]
  },
  {
   "cell_type": "markdown",
   "id": "88d6849e",
   "metadata": {},
   "source": [
    "### Evaluation metrics"
   ]
  },
  {
   "cell_type": "code",
   "execution_count": 26,
   "id": "32f8a003",
   "metadata": {},
   "outputs": [],
   "source": [
    "label_count_list = []\n",
    "map_count_list = []\n",
    "for idx in [i for i in range(len(test_dataset))]:\n",
    "    ### Move the images to the right shapes\n",
    "    UP = nn.Upsample(size=(shapes[0][idx],shapes[1][idx]),mode='bilinear')\n",
    "\n",
    "    label = labels[idx]#.numpy().transpose(1, 2, 0)\n",
    "    label = label[None, :]\n",
    "    label = UP(label)\n",
    "    label = label[0].numpy().transpose(1, 2, 0)\n",
    "    label_count = int(label.sum()/scale)\n",
    "    label_count_list.append(label_count)\n",
    "    \n",
    "    map_ = outputs[idx]#.numpy().transpose(1, 2, 0)\n",
    "    map_ = map_[None, :]\n",
    "    map_ = UP(map_)\n",
    "    map_ = map_[0].numpy().transpose(1, 2, 0) \n",
    "    map_count = int(map_.sum()/scale)\n",
    "    map_count_list.append(map_count)"
   ]
  },
  {
   "cell_type": "code",
   "execution_count": 27,
   "id": "e7751f79",
   "metadata": {},
   "outputs": [
    {
     "name": "stdout",
     "output_type": "stream",
     "text": [
      "MAE =  122.33870967741936\n",
      "RMSE =  213.81100336813896\n"
     ]
    }
   ],
   "source": [
    "mae = np.sum(np.abs(np.array(label_count_list)-np.array(map_count_list)))/len(map_count_list)\n",
    "print(\"MAE = \", mae)\n",
    "\n",
    "rmse = np.sqrt(np.sum(np.abs(np.array(label_count_list)-np.array(map_count_list))**2)/len(map_count_list))\n",
    "print(\"RMSE = \", rmse)"
   ]
  },
  {
   "cell_type": "code",
   "execution_count": 40,
   "id": "46874c12",
   "metadata": {},
   "outputs": [
    {
     "data": {
      "text/plain": [
       "torch.Size([62, 224, 224])"
      ]
     },
     "execution_count": 40,
     "metadata": {},
     "output_type": "execute_result"
    }
   ],
   "source": [
    "labels[:,0,:,:].shape"
   ]
  },
  {
   "cell_type": "code",
   "execution_count": null,
   "id": "94461810",
   "metadata": {},
   "outputs": [],
   "source": [
    "def mae():\n",
    "    return "
   ]
  },
  {
   "cell_type": "code",
   "execution_count": null,
   "id": "b32c52ee",
   "metadata": {},
   "outputs": [],
   "source": []
  }
 ],
 "metadata": {
  "kernelspec": {
   "display_name": "Python 3 (ipykernel)",
   "language": "python",
   "name": "python3"
  },
  "language_info": {
   "codemirror_mode": {
    "name": "ipython",
    "version": 3
   },
   "file_extension": ".py",
   "mimetype": "text/x-python",
   "name": "python",
   "nbconvert_exporter": "python",
   "pygments_lexer": "ipython3",
   "version": "3.8.13"
  },
  "nbTranslate": {
   "displayLangs": [
    "*"
   ],
   "hotkey": "alt-t",
   "langInMainMenu": true,
   "sourceLang": "en",
   "targetLang": "fr",
   "useGoogleTranslate": true
  },
  "toc": {
   "base_numbering": 1,
   "nav_menu": {},
   "number_sections": true,
   "sideBar": true,
   "skip_h1_title": false,
   "title_cell": "Table of Contents",
   "title_sidebar": "Contents",
   "toc_cell": false,
   "toc_position": {},
   "toc_section_display": true,
   "toc_window_display": false
  }
 },
 "nbformat": 4,
 "nbformat_minor": 5
}
