{
 "cells": [
  {
   "cell_type": "markdown",
   "id": "60e9dc20",
   "metadata": {},
   "source": [
    "Now I have to generate the ground truth for my approach"
   ]
  },
  {
   "cell_type": "markdown",
   "id": "709872a0",
   "metadata": {},
   "source": [
    "In this notebook I tried to obtain the density maps for the images I have at disposal. So basically I read the files with the position of the kernels in each image, generate a numpy array marking their position and then i perform a convolution with a gaussian filter.\n",
    "\n",
    "At the end I get a numpy array which is the density map. This is a 2 dimensional array which could be interpreted as a single channel image and thats the way I want to save it for further usage in the network training. \n",
    "The problem arises when I try to upload the image to check its content, somehow it became into an RGB image, as I want to keep some control over the image because I need the maps for estimating the number of kernels I want to keep the grayscale.\n",
    "So what I did was:\n",
    "- Normalize the map so the sum is one\n",
    "- move the interval of the data to [0,255] which is grayscale in order to avoid having so many values close to one which may cause gradient vanishing problems.\n",
    "\n",
    "in this way I keep some control over the shape of the images and also on the values. Because now I know how to invert the map so to obtain the right count."
   ]
  },
  {
   "cell_type": "code",
   "execution_count": 1,
   "id": "4aecdb08",
   "metadata": {},
   "outputs": [],
   "source": [
    "### IMPORTS\n",
    "import pandas as pd\n",
    "import numpy as np\n",
    "import matplotlib.pyplot as plt\n",
    "from scipy.ndimage import gaussian_filter\n",
    "import cv2\n",
    "#from PIL import Image"
   ]
  },
  {
   "cell_type": "code",
   "execution_count": 2,
   "id": "27467c2b",
   "metadata": {},
   "outputs": [],
   "source": [
    "def get_image_relevant_data(df_info, df_positions,id_):\n",
    "    \"\"\"This function recover relevant information of each image\"\"\"\n",
    "    \n",
    "    shape =[df_info[df_info['id'] == id_].reset_index()[\"height\"][0],\n",
    "            df_info[df_info['id'] == id_].reset_index()[\"width\"][0]]\n",
    "    kernel_number = df_info[df_info['id'] == id_].reset_index()[\"counts\"][0]\n",
    "    file_name = df_info[df_info['id'] == id_].reset_index()[\"file_name\"][0]\n",
    "\n",
    "    kernel_positions = df_positions[df_positions['image_id'] == id_][[\"kernel_x\",\"kernel_y\"]].to_numpy()    \n",
    "    return kernel_positions, shape, kernel_number,file_name"
   ]
  },
  {
   "cell_type": "code",
   "execution_count": 3,
   "id": "8d874677",
   "metadata": {},
   "outputs": [],
   "source": [
    "def generate_label(label_info, image_shape,sig=1):\n",
    "    \"\"\"\n",
    "    Generate a density map based on objects positions.\n",
    "    Args:\n",
    "        label_info: (x, y) objects positions\n",
    "        image_shape: (width, height) of a density map to be generated\n",
    "    Returns:\n",
    "        A density map.\n",
    "    \"\"\"\n",
    "    # create an empty density map\n",
    "    label = np.zeros(image_shape, dtype=np.float32)\n",
    "\n",
    "    # loop over objects positions and marked them with 100 on a label\n",
    "    # note: *_ because some datasets contain more info except x, y coordinates\n",
    "    for x, y, *_ in label_info:\n",
    "        if y < image_shape[0] and x < image_shape[1]:\n",
    "            label[int(y)][int(x)] = 1\n",
    "\n",
    "    # apply a convolution with a Gaussian kernel\n",
    "    label = gaussian_filter(label, sigma=(sig, sig), order=0)\n",
    "\n",
    "    return label"
   ]
  },
  {
   "cell_type": "code",
   "execution_count": 5,
   "id": "0aa4fcd0",
   "metadata": {},
   "outputs": [],
   "source": [
    "### PARAMETER\n",
    "sigma = 12"
   ]
  },
  {
   "cell_type": "code",
   "execution_count": 6,
   "id": "7d97a1ca",
   "metadata": {},
   "outputs": [],
   "source": [
    "#root_path = \"C:/Users/hilar/Documents/Data/GitHub/Vision_Cognitive_Systems_Proyect/Corn/corn_kenel_counting_dataset/corn_kenel_counting_dataset/\"\n",
    "root_path = \"../Data/corn_kernel_counting_dataset/\"\n",
    "maxim = []\n",
    "for dataset in [\"corn\",\"narrow\"]:\n",
    "    for mode in [\"train\",\"test\"]:\n",
    "        df_i = pd.read_csv (root_path + f\"{dataset}_coco/{dataset}_kernel_{mode}_info.csv\" )\n",
    "        df_p = pd.read_csv (root_path + f\"{dataset}_coco/{dataset}_kernel_{mode}_positions.csv\" )       \n",
    "\n",
    "        ### Loop over all the images in the dataset\n",
    "        for im in list(df_i[\"id\"]):\n",
    "            ### Get the information\n",
    "            kernel_positions, shape, kernel_number, file = get_image_relevant_data(df_i, df_p, im)\n",
    "            ### Produce the maps\n",
    "            image = generate_label(kernel_positions, shape,sigma)\n",
    "            ### Threshold image\n",
    "            image[image<=1e-4]=0\n",
    "            ### nomarlize map\n",
    "            image=image/image.sum()*kernel_number\n",
    "            ### Save map\n",
    "            path_map = root_path + f\"{dataset}_coco/\" +file[:-4]+\"_map.tiff\"\n",
    "            cv2.imwrite(path_map,image) \n",
    "            \n",
    "            ### just for the sake of cheking the number of kernels\n",
    "            #print(\"Annotated kernels\",\"Feature kernels\")\n",
    "            #print(kernel_number,int(np.sum(image)))\n",
    "            maxim.append(np.max(image))"
   ]
  },
  {
   "cell_type": "code",
   "execution_count": 7,
   "id": "6ed5ef17",
   "metadata": {},
   "outputs": [
    {
     "data": {
      "text/plain": [
       "<matplotlib.image.AxesImage at 0x7f46e9bfc910>"
      ]
     },
     "execution_count": 7,
     "metadata": {},
     "output_type": "execute_result"
    },
    {
     "data": {
      "image/png": "[encoded data removed]",
      "text/plain": [
       "<Figure size 432x288 with 1 Axes>"
      ]
     },
     "metadata": {
      "needs_background": "light"
     },
     "output_type": "display_data"
    }
   ],
   "source": [
    "plt.imshow(image)"
   ]
  },
  {
   "cell_type": "markdown",
   "id": "0a5cac53",
   "metadata": {},
   "source": [
    "**Lets check the pixel value distribution** "
   ]
  },
  {
   "cell_type": "code",
   "execution_count": 9,
   "id": "9639eeb5",
   "metadata": {},
   "outputs": [],
   "source": [
    "long = np.reshape(image,newshape=image.shape[0]* image.shape[1])\n",
    "tot = len(long)\n",
    "n0 = np.count_nonzero(long ==0.)/tot\n",
    "n6 = np.count_nonzero(np.logical_and(long>0,long<1e-6))/tot\n",
    "n5 = np.count_nonzero(np.logical_and(long>1e-6,long<1e-5))/tot\n",
    "n4 = np.count_nonzero(np.logical_and(long>1e-5,long<1e-4))/tot\n",
    "n3 = np.count_nonzero(np.logical_and(long>1e-4,long<1e-3))/tot\n",
    "n33 = np.count_nonzero(long >1e-3)/tot\n",
    "hst = [n0,n6,n5,n4,n3,n33]"
   ]
  },
  {
   "cell_type": "code",
   "execution_count": 10,
   "id": "cc742341",
   "metadata": {},
   "outputs": [
    {
     "data": {
      "image/png": "[encoded data removed]",
      "text/plain": [
       "<Figure size 432x288 with 1 Axes>"
      ]
     },
     "metadata": {
      "needs_background": "light"
     },
     "output_type": "display_data"
    }
   ],
   "source": [
    "plt.bar([1,2,3,4,5,6],hst)\n",
    "plt.title(\"Fequency of the different pixel values\")\n",
    "plt.xlabel(\"Pixel intensity\")\n",
    "plt.ylabel(\"Frequency\")\n",
    "labels = [\"0.\", \"<1e-6\", \"<1e-5\",\"<1e-4\",\"<1e-3\",\">1e-3\"]\n",
    "plt.xticks([1,2,3,4,5,6], labels)\n",
    "plt.show()"
   ]
  },
  {
   "cell_type": "code",
   "execution_count": null,
   "id": "6a27b904",
   "metadata": {},
   "outputs": [],
   "source": []
  },
  {
   "cell_type": "code",
   "execution_count": null,
   "id": "c3c65e97",
   "metadata": {},
   "outputs": [],
   "source": []
  }
 ],
 "metadata": {
  "environment": {
   "kernel": "python3",
   "name": "pytorch-gpu.1-11.m94",
   "type": "gcloud",
   "uri": "gcr.io/deeplearning-platform-release/pytorch-gpu.1-11:m94"
  },
  "kernelspec": {
   "display_name": "Python 3 (ipykernel)",
   "language": "python",
   "name": "python3"
  },
  "language_info": {
   "codemirror_mode": {
    "name": "ipython",
    "version": 3
   },
   "file_extension": ".py",
   "mimetype": "text/x-python",
   "name": "python",
   "nbconvert_exporter": "python",
   "pygments_lexer": "ipython3",
   "version": "3.9.7"
  },
  "nbTranslate": {
   "displayLangs": [
    "*"
   ],
   "hotkey": "alt-t",
   "langInMainMenu": true,
   "sourceLang": "en",
   "targetLang": "fr",
   "useGoogleTranslate": true
  },
  "toc": {
   "base_numbering": 1,
   "nav_menu": {},
   "number_sections": true,
   "sideBar": true,
   "skip_h1_title": false,
   "title_cell": "Table of Contents",
   "title_sidebar": "Contents",
   "toc_cell": false,
   "toc_position": {},
   "toc_section_display": true,
   "toc_window_display": false
  }
 },
 "nbformat": 4,
 "nbformat_minor": 5
}
