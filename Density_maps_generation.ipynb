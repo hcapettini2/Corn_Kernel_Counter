{
 "cells": [
  {
   "cell_type": "markdown",
   "id": "60e9dc20",
   "metadata": {},
   "source": [
    "Now I have to generate the ground truth for my approach"
   ]
  },
  {
   "cell_type": "code",
   "execution_count": 1,
   "id": "4aecdb08",
   "metadata": {},
   "outputs": [],
   "source": [
    "### IMPORTS\n",
    "import pandas as pd\n",
    "import numpy as np\n",
    "import matplotlib.pyplot as plt\n",
    "from scipy.ndimage import gaussian_filter\n"
   ]
  },
  {
   "cell_type": "code",
   "execution_count": 3,
   "id": "b027f00b",
   "metadata": {},
   "outputs": [],
   "source": [
    "def get_image_relevant_data(df_info, df_positions,id_):\n",
    "    if (id_ >= len(df_info)): \n",
    "        print(\"THIS ID IS NOT CONTAINED IN THE DATASET\")\n",
    "        return\n",
    "    \n",
    "    shape =[df_info[df_info['id'] == id_].reset_index()[\"height\"][0],\n",
    "            df_info[df_info['id'] == id_].reset_index()[\"width\"][0]]\n",
    "    kernel_number = df_info[df_info['id'] == id_].reset_index()[\"counts\"][0]\n",
    "    file_name = df_info[df_info['id'] == id_].reset_index()[\"file_name\"][0]\n",
    "\n",
    "    kernel_positions = df_positions[df_positions['image_id'] == id_][[\"kernel_x\",\"kernel_y\"]].to_numpy()    \n",
    "    return kernel_positions, shape, kernel_number,file_name"
   ]
  },
  {
   "cell_type": "code",
   "execution_count": 4,
   "id": "8d874677",
   "metadata": {},
   "outputs": [],
   "source": [
    "def generate_label(label_info, image_shape,sig=1):\n",
    "    \"\"\"\n",
    "    Generate a density map based on objects positions.\n",
    "    Args:\n",
    "        label_info: (x, y) objects positions\n",
    "        image_shape: (width, height) of a density map to be generated\n",
    "    Returns:\n",
    "        A density map.\n",
    "    \"\"\"\n",
    "    # create an empty density map\n",
    "    label = np.zeros(image_shape, dtype=np.float32)\n",
    "\n",
    "    # loop over objects positions and marked them with 100 on a label\n",
    "    # note: *_ because some datasets contain more info except x, y coordinates\n",
    "    for x, y, *_ in label_info:\n",
    "        if y < image_shape[0] and x < image_shape[1]:\n",
    "            label[int(y)][int(x)] = 100\n",
    "\n",
    "    # apply a convolution with a Gaussian kernel\n",
    "    label = gaussian_filter(label, sigma=(sig, sig), order=0)\n",
    "\n",
    "    return label"
   ]
  },
  {
   "cell_type": "code",
   "execution_count": 13,
   "id": "a35a5e8e",
   "metadata": {},
   "outputs": [],
   "source": [
    "root_path = \"C:/Users/hilar/Documents/Data/GitHub/Vision_Cognitive_Systems_Proyect/Corn/corn_kenel_counting_dataset/corn_kenel_counting_dataset/\"\n",
    "sigma = 5\n",
    "\n",
    "#for dataset in [\"narrow\",\"many\",\"corn\"]:\n",
    "for dataset in [\"narrow\"]:\n",
    "    #for mode in [\"train\",\"test\"]:\n",
    "    for mode in [\"test\"]:\n",
    "        df_i = pd.read_csv (root_path + f\"{dataset}_coco/{dataset}_kernel_{mode}_info.csv\" )\n",
    "        df_p = pd.read_csv (root_path + f\"{dataset}_coco/{dataset}_kernel_{mode}_positions.csv\" )       \n",
    "\n",
    "        ### Loop over all the images in the dataset\n",
    "        for im in range(len(df_i)):\n",
    "            ### Get the information\n",
    "            kernel_positions, shape, kernel_number, file = get_image_relevant_data(df_i, df_p, im)\n",
    "            ### Produce the maps\n",
    "            image = generate_label(kernel_positions, shape,sigma)\n",
    "            ### Save map\n",
    "            path_map = root_path + f\"{dataset}_coco/\" +file[:-4]+\"_map\"+file[-4:]\n",
    "            plt.imsave(path_map, image)  \n",
    "            \n"
   ]
  }
 ],
 "metadata": {
  "kernelspec": {
   "display_name": "Python 3 (ipykernel)",
   "language": "python",
   "name": "python3"
  },
  "language_info": {
   "codemirror_mode": {
    "name": "ipython",
    "version": 3
   },
   "file_extension": ".py",
   "mimetype": "text/x-python",
   "name": "python",
   "nbconvert_exporter": "python",
   "pygments_lexer": "ipython3",
   "version": "3.8.13"
  },
  "nbTranslate": {
   "displayLangs": [
    "*"
   ],
   "hotkey": "alt-t",
   "langInMainMenu": true,
   "sourceLang": "en",
   "targetLang": "fr",
   "useGoogleTranslate": true
  },
  "toc": {
   "base_numbering": 1,
   "nav_menu": {},
   "number_sections": true,
   "sideBar": true,
   "skip_h1_title": false,
   "title_cell": "Table of Contents",
   "title_sidebar": "Contents",
   "toc_cell": false,
   "toc_position": {},
   "toc_section_display": true,
   "toc_window_display": false
  }
 },
 "nbformat": 4,
 "nbformat_minor": 5
}
